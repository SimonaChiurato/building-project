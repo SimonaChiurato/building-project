{
 "cells": [
  {
   "cell_type": "code",
   "execution_count": 1,
   "metadata": {
    "scrolled": true
   },
   "outputs": [],
   "source": [
    "from influxdb import InfluxDBClient\n",
    "from influxdb import DataFrameClient\n",
    "import numpy as np\n",
    "import pandas as pd\n",
    "\n",
    "client = DataFrameClient(host='localhost', port=8086, username='admin', password='admin' , database='VirtualBuilding_ottimizzato')\n",
    "\n",
    "#T = client.query('SELECT value FROM \"T_ext\"')\n",
    "#T_in_query = client.query('SELECT mean(\"value\") FROM \"test\" WHERE (\"node\" = \\'Tin_Kitchen\\' OR \"node\" = \\'Tin_Bathroom\\' OR \"node\" = \\'Tin_Bedroom\\' OR \"node\" = \\'Tin_LivingRoom\\' OR \"node\" = \\'Tin_Storage\\' OR \"node\" = \\'Tin_Stairs\\') AND time >= 1483243655000ms and time <= 1514720659000ms GROUP BY time(30m)')\n",
    "Tin_Bathroom_query = client.query('SELECT value FROM \"Tin_Bathroom\"')\n",
    "Tin_Kitchen_query = client.query('SELECT value FROM \"Tin_Kitchen\"')\n",
    "Tin_Bedroom_query = client.query('SELECT value FROM \"Tin_Bedroom\"')\n",
    "Tin_Livingroom_query = client.query('SELECT value FROM \"Tin_LivingRoom\"')\n",
    "Tin_Stairs_query = client.query('SELECT value FROM \"Tin_Stairs\"')\n",
    "Tin_Storage_query = client.query('SELECT value FROM \"Tin_Storage\"')\n",
    "T_ext_query = client.query('SELECT \"value\" FROM \"T_ext\"')\n",
    "DHeating_query = client.query('SELECT \"value\" FROM \"DistrictHeating\"')\n",
    "DCooling_query = client.query('SELECT \"value\" FROM \"DistrictCooling\"')\n",
    "DHI_query = client.query('SELECT \"value\" FROM \"DHI\"')\n",
    "DNI_query = client.query('SELECT \"value\" FROM \"DNI\"')\n",
    "cos_teta_query = client.query('SELECT \"value\" FROM \"cos_teta\"')"
   ]
  },
  {
   "cell_type": "code",
   "execution_count": 2,
   "metadata": {},
   "outputs": [
    {
     "data": {
      "text/html": [
       "<div>\n",
       "<style scoped>\n",
       "    .dataframe tbody tr th:only-of-type {\n",
       "        vertical-align: middle;\n",
       "    }\n",
       "\n",
       "    .dataframe tbody tr th {\n",
       "        vertical-align: top;\n",
       "    }\n",
       "\n",
       "    .dataframe thead th {\n",
       "        text-align: right;\n",
       "    }\n",
       "</style>\n",
       "<table border=\"1\" class=\"dataframe\">\n",
       "  <thead>\n",
       "    <tr style=\"text-align: right;\">\n",
       "      <th></th>\n",
       "      <th>Tin_Bath</th>\n",
       "      <th>Tin_K</th>\n",
       "      <th>Tin_Bed</th>\n",
       "      <th>Tin_Liv</th>\n",
       "      <th>Tin_Stairs</th>\n",
       "      <th>Tin_Storage</th>\n",
       "      <th>mean_house</th>\n",
       "    </tr>\n",
       "  </thead>\n",
       "  <tbody>\n",
       "    <tr>\n",
       "      <th>2017-01-01 00:30:00+00:00</th>\n",
       "      <td>15.832862</td>\n",
       "      <td>16.386438</td>\n",
       "      <td>18.190779</td>\n",
       "      <td>18.412540</td>\n",
       "      <td>16.358489</td>\n",
       "      <td>17.067984</td>\n",
       "      <td>17.041515</td>\n",
       "    </tr>\n",
       "    <tr>\n",
       "      <th>2017-01-01 01:00:00+00:00</th>\n",
       "      <td>15.819463</td>\n",
       "      <td>16.384983</td>\n",
       "      <td>18.212283</td>\n",
       "      <td>18.439550</td>\n",
       "      <td>16.949633</td>\n",
       "      <td>17.364307</td>\n",
       "      <td>17.195037</td>\n",
       "    </tr>\n",
       "    <tr>\n",
       "      <th>2017-01-01 01:30:00+00:00</th>\n",
       "      <td>15.764893</td>\n",
       "      <td>16.345288</td>\n",
       "      <td>18.152943</td>\n",
       "      <td>18.393450</td>\n",
       "      <td>16.962929</td>\n",
       "      <td>17.319897</td>\n",
       "      <td>17.156567</td>\n",
       "    </tr>\n",
       "    <tr>\n",
       "      <th>2017-01-01 02:00:00+00:00</th>\n",
       "      <td>15.708564</td>\n",
       "      <td>16.302918</td>\n",
       "      <td>18.054602</td>\n",
       "      <td>18.307098</td>\n",
       "      <td>16.780074</td>\n",
       "      <td>17.219037</td>\n",
       "      <td>17.062049</td>\n",
       "    </tr>\n",
       "    <tr>\n",
       "      <th>2017-01-01 02:30:00+00:00</th>\n",
       "      <td>15.658587</td>\n",
       "      <td>16.255488</td>\n",
       "      <td>17.993700</td>\n",
       "      <td>18.253478</td>\n",
       "      <td>16.743313</td>\n",
       "      <td>17.193345</td>\n",
       "      <td>17.016318</td>\n",
       "    </tr>\n",
       "    <tr>\n",
       "      <th>...</th>\n",
       "      <td>...</td>\n",
       "      <td>...</td>\n",
       "      <td>...</td>\n",
       "      <td>...</td>\n",
       "      <td>...</td>\n",
       "      <td>...</td>\n",
       "      <td>...</td>\n",
       "    </tr>\n",
       "    <tr>\n",
       "      <th>2017-12-31 22:00:00+00:00</th>\n",
       "      <td>18.000000</td>\n",
       "      <td>18.038239</td>\n",
       "      <td>19.000000</td>\n",
       "      <td>19.068607</td>\n",
       "      <td>18.000000</td>\n",
       "      <td>18.000000</td>\n",
       "      <td>18.351141</td>\n",
       "    </tr>\n",
       "    <tr>\n",
       "      <th>2017-12-31 22:30:00+00:00</th>\n",
       "      <td>16.660115</td>\n",
       "      <td>18.041367</td>\n",
       "      <td>19.000000</td>\n",
       "      <td>19.052410</td>\n",
       "      <td>18.000000</td>\n",
       "      <td>18.000000</td>\n",
       "      <td>18.125649</td>\n",
       "    </tr>\n",
       "    <tr>\n",
       "      <th>2017-12-31 23:00:00+00:00</th>\n",
       "      <td>16.402508</td>\n",
       "      <td>18.040356</td>\n",
       "      <td>19.000000</td>\n",
       "      <td>19.032527</td>\n",
       "      <td>18.000000</td>\n",
       "      <td>18.000000</td>\n",
       "      <td>18.079232</td>\n",
       "    </tr>\n",
       "    <tr>\n",
       "      <th>2017-12-31 23:30:00+00:00</th>\n",
       "      <td>16.149828</td>\n",
       "      <td>16.748775</td>\n",
       "      <td>18.879688</td>\n",
       "      <td>18.938548</td>\n",
       "      <td>18.000000</td>\n",
       "      <td>18.000000</td>\n",
       "      <td>17.786140</td>\n",
       "    </tr>\n",
       "    <tr>\n",
       "      <th>2018-01-01 00:00:00+00:00</th>\n",
       "      <td>16.019141</td>\n",
       "      <td>16.461534</td>\n",
       "      <td>18.795753</td>\n",
       "      <td>18.897054</td>\n",
       "      <td>18.000000</td>\n",
       "      <td>18.000000</td>\n",
       "      <td>17.695580</td>\n",
       "    </tr>\n",
       "  </tbody>\n",
       "</table>\n",
       "<p>17520 rows × 7 columns</p>\n",
       "</div>"
      ],
      "text/plain": [
       "                            Tin_Bath      Tin_K    Tin_Bed    Tin_Liv  \\\n",
       "2017-01-01 00:30:00+00:00  15.832862  16.386438  18.190779  18.412540   \n",
       "2017-01-01 01:00:00+00:00  15.819463  16.384983  18.212283  18.439550   \n",
       "2017-01-01 01:30:00+00:00  15.764893  16.345288  18.152943  18.393450   \n",
       "2017-01-01 02:00:00+00:00  15.708564  16.302918  18.054602  18.307098   \n",
       "2017-01-01 02:30:00+00:00  15.658587  16.255488  17.993700  18.253478   \n",
       "...                              ...        ...        ...        ...   \n",
       "2017-12-31 22:00:00+00:00  18.000000  18.038239  19.000000  19.068607   \n",
       "2017-12-31 22:30:00+00:00  16.660115  18.041367  19.000000  19.052410   \n",
       "2017-12-31 23:00:00+00:00  16.402508  18.040356  19.000000  19.032527   \n",
       "2017-12-31 23:30:00+00:00  16.149828  16.748775  18.879688  18.938548   \n",
       "2018-01-01 00:00:00+00:00  16.019141  16.461534  18.795753  18.897054   \n",
       "\n",
       "                           Tin_Stairs  Tin_Storage  mean_house  \n",
       "2017-01-01 00:30:00+00:00   16.358489    17.067984   17.041515  \n",
       "2017-01-01 01:00:00+00:00   16.949633    17.364307   17.195037  \n",
       "2017-01-01 01:30:00+00:00   16.962929    17.319897   17.156567  \n",
       "2017-01-01 02:00:00+00:00   16.780074    17.219037   17.062049  \n",
       "2017-01-01 02:30:00+00:00   16.743313    17.193345   17.016318  \n",
       "...                               ...          ...         ...  \n",
       "2017-12-31 22:00:00+00:00   18.000000    18.000000   18.351141  \n",
       "2017-12-31 22:30:00+00:00   18.000000    18.000000   18.125649  \n",
       "2017-12-31 23:00:00+00:00   18.000000    18.000000   18.079232  \n",
       "2017-12-31 23:30:00+00:00   18.000000    18.000000   17.786140  \n",
       "2018-01-01 00:00:00+00:00   18.000000    18.000000   17.695580  \n",
       "\n",
       "[17520 rows x 7 columns]"
      ]
     },
     "execution_count": 2,
     "metadata": {},
     "output_type": "execute_result"
    }
   ],
   "source": [
    "T_in_df = Tin_Bathroom_query['Tin_Bathroom']\n",
    "T_in_df['Tin_Bath'] = T_in_df['value']\n",
    "T_in_df = T_in_df.drop('value', axis=1)\n",
    "T_in_df['Tin_K'] = Tin_Kitchen_query['Tin_Kitchen']\n",
    "T_in_df['Tin_Bed'] = Tin_Bedroom_query['Tin_Bedroom']\n",
    "T_in_df['Tin_Liv'] = Tin_Livingroom_query['Tin_LivingRoom']\n",
    "T_in_df['Tin_Stairs'] = Tin_Stairs_query['Tin_Stairs']\n",
    "T_in_df['Tin_Storage'] = Tin_Storage_query['Tin_Storage']\n",
    "T_in_df = T_in_df.dropna()\n",
    "T_in_df['mean_house'] = T_in_df.mean(axis=1)\n",
    "#T_in_df = T_in_df['mean_house']\n",
    "T_in_df"
   ]
  },
  {
   "cell_type": "code",
   "execution_count": 3,
   "metadata": {},
   "outputs": [
    {
     "data": {
      "text/html": [
       "<div>\n",
       "<style scoped>\n",
       "    .dataframe tbody tr th:only-of-type {\n",
       "        vertical-align: middle;\n",
       "    }\n",
       "\n",
       "    .dataframe tbody tr th {\n",
       "        vertical-align: top;\n",
       "    }\n",
       "\n",
       "    .dataframe thead th {\n",
       "        text-align: right;\n",
       "    }\n",
       "</style>\n",
       "<table border=\"1\" class=\"dataframe\">\n",
       "  <thead>\n",
       "    <tr style=\"text-align: right;\">\n",
       "      <th></th>\n",
       "      <th>value</th>\n",
       "    </tr>\n",
       "  </thead>\n",
       "  <tbody>\n",
       "    <tr>\n",
       "      <th>2017-01-01 00:30:00+00:00</th>\n",
       "      <td>2.90</td>\n",
       "    </tr>\n",
       "    <tr>\n",
       "      <th>2017-01-01 01:00:00+00:00</th>\n",
       "      <td>3.50</td>\n",
       "    </tr>\n",
       "    <tr>\n",
       "      <th>2017-01-01 01:30:00+00:00</th>\n",
       "      <td>3.45</td>\n",
       "    </tr>\n",
       "    <tr>\n",
       "      <th>2017-01-01 02:00:00+00:00</th>\n",
       "      <td>3.40</td>\n",
       "    </tr>\n",
       "    <tr>\n",
       "      <th>2017-01-01 02:30:00+00:00</th>\n",
       "      <td>3.25</td>\n",
       "    </tr>\n",
       "    <tr>\n",
       "      <th>...</th>\n",
       "      <td>...</td>\n",
       "    </tr>\n",
       "    <tr>\n",
       "      <th>2017-12-31 22:00:00+00:00</th>\n",
       "      <td>5.00</td>\n",
       "    </tr>\n",
       "    <tr>\n",
       "      <th>2017-12-31 22:30:00+00:00</th>\n",
       "      <td>4.80</td>\n",
       "    </tr>\n",
       "    <tr>\n",
       "      <th>2017-12-31 23:00:00+00:00</th>\n",
       "      <td>4.60</td>\n",
       "    </tr>\n",
       "    <tr>\n",
       "      <th>2017-12-31 23:30:00+00:00</th>\n",
       "      <td>4.45</td>\n",
       "    </tr>\n",
       "    <tr>\n",
       "      <th>2018-01-01 00:00:00+00:00</th>\n",
       "      <td>4.30</td>\n",
       "    </tr>\n",
       "  </tbody>\n",
       "</table>\n",
       "<p>17520 rows × 1 columns</p>\n",
       "</div>"
      ],
      "text/plain": [
       "                           value\n",
       "2017-01-01 00:30:00+00:00   2.90\n",
       "2017-01-01 01:00:00+00:00   3.50\n",
       "2017-01-01 01:30:00+00:00   3.45\n",
       "2017-01-01 02:00:00+00:00   3.40\n",
       "2017-01-01 02:30:00+00:00   3.25\n",
       "...                          ...\n",
       "2017-12-31 22:00:00+00:00   5.00\n",
       "2017-12-31 22:30:00+00:00   4.80\n",
       "2017-12-31 23:00:00+00:00   4.60\n",
       "2017-12-31 23:30:00+00:00   4.45\n",
       "2018-01-01 00:00:00+00:00   4.30\n",
       "\n",
       "[17520 rows x 1 columns]"
      ]
     },
     "execution_count": 3,
     "metadata": {},
     "output_type": "execute_result"
    }
   ],
   "source": [
    "T_ext_df = T_ext_query['T_ext']\n",
    "T_ext_df"
   ]
  },
  {
   "cell_type": "code",
   "execution_count": 4,
   "metadata": {},
   "outputs": [
    {
     "data": {
      "text/html": [
       "<div>\n",
       "<style scoped>\n",
       "    .dataframe tbody tr th:only-of-type {\n",
       "        vertical-align: middle;\n",
       "    }\n",
       "\n",
       "    .dataframe tbody tr th {\n",
       "        vertical-align: top;\n",
       "    }\n",
       "\n",
       "    .dataframe thead th {\n",
       "        text-align: right;\n",
       "    }\n",
       "</style>\n",
       "<table border=\"1\" class=\"dataframe\">\n",
       "  <thead>\n",
       "    <tr style=\"text-align: right;\">\n",
       "      <th></th>\n",
       "      <th>value</th>\n",
       "    </tr>\n",
       "  </thead>\n",
       "  <tbody>\n",
       "    <tr>\n",
       "      <th>2017-01-01 00:30:00+00:00</th>\n",
       "      <td>0.000000</td>\n",
       "    </tr>\n",
       "    <tr>\n",
       "      <th>2017-01-01 01:00:00+00:00</th>\n",
       "      <td>0.000000</td>\n",
       "    </tr>\n",
       "    <tr>\n",
       "      <th>2017-01-01 01:30:00+00:00</th>\n",
       "      <td>0.000000</td>\n",
       "    </tr>\n",
       "    <tr>\n",
       "      <th>2017-01-01 02:00:00+00:00</th>\n",
       "      <td>0.000000</td>\n",
       "    </tr>\n",
       "    <tr>\n",
       "      <th>2017-01-01 02:30:00+00:00</th>\n",
       "      <td>0.000000</td>\n",
       "    </tr>\n",
       "    <tr>\n",
       "      <th>...</th>\n",
       "      <td>...</td>\n",
       "    </tr>\n",
       "    <tr>\n",
       "      <th>2017-12-31 22:00:00+00:00</th>\n",
       "      <td>0.324376</td>\n",
       "    </tr>\n",
       "    <tr>\n",
       "      <th>2017-12-31 22:30:00+00:00</th>\n",
       "      <td>1.604563</td>\n",
       "    </tr>\n",
       "    <tr>\n",
       "      <th>2017-12-31 23:00:00+00:00</th>\n",
       "      <td>0.218720</td>\n",
       "    </tr>\n",
       "    <tr>\n",
       "      <th>2017-12-31 23:30:00+00:00</th>\n",
       "      <td>0.442508</td>\n",
       "    </tr>\n",
       "    <tr>\n",
       "      <th>2018-01-01 00:00:00+00:00</th>\n",
       "      <td>0.057151</td>\n",
       "    </tr>\n",
       "  </tbody>\n",
       "</table>\n",
       "<p>17520 rows × 1 columns</p>\n",
       "</div>"
      ],
      "text/plain": [
       "                              value\n",
       "2017-01-01 00:30:00+00:00  0.000000\n",
       "2017-01-01 01:00:00+00:00  0.000000\n",
       "2017-01-01 01:30:00+00:00  0.000000\n",
       "2017-01-01 02:00:00+00:00  0.000000\n",
       "2017-01-01 02:30:00+00:00  0.000000\n",
       "...                             ...\n",
       "2017-12-31 22:00:00+00:00  0.324376\n",
       "2017-12-31 22:30:00+00:00  1.604563\n",
       "2017-12-31 23:00:00+00:00  0.218720\n",
       "2017-12-31 23:30:00+00:00  0.442508\n",
       "2018-01-01 00:00:00+00:00  0.057151\n",
       "\n",
       "[17520 rows x 1 columns]"
      ]
     },
     "execution_count": 4,
     "metadata": {},
     "output_type": "execute_result"
    }
   ],
   "source": [
    "DHeating_query['DistrictHeating']['value'] = DHeating_query['DistrictHeating']['value']/(1.8 * 10**6)\n",
    "DHeating_df = DHeating_query['DistrictHeating']\n",
    "DHeating_df"
   ]
  },
  {
   "cell_type": "code",
   "execution_count": 5,
   "metadata": {
    "scrolled": true
   },
   "outputs": [
    {
     "data": {
      "text/html": [
       "<div>\n",
       "<style scoped>\n",
       "    .dataframe tbody tr th:only-of-type {\n",
       "        vertical-align: middle;\n",
       "    }\n",
       "\n",
       "    .dataframe tbody tr th {\n",
       "        vertical-align: top;\n",
       "    }\n",
       "\n",
       "    .dataframe thead th {\n",
       "        text-align: right;\n",
       "    }\n",
       "</style>\n",
       "<table border=\"1\" class=\"dataframe\">\n",
       "  <thead>\n",
       "    <tr style=\"text-align: right;\">\n",
       "      <th></th>\n",
       "      <th>value</th>\n",
       "    </tr>\n",
       "  </thead>\n",
       "  <tbody>\n",
       "    <tr>\n",
       "      <th>2017-01-01 00:30:00+00:00</th>\n",
       "      <td>0.0</td>\n",
       "    </tr>\n",
       "    <tr>\n",
       "      <th>2017-01-01 01:00:00+00:00</th>\n",
       "      <td>0.0</td>\n",
       "    </tr>\n",
       "    <tr>\n",
       "      <th>2017-01-01 01:30:00+00:00</th>\n",
       "      <td>0.0</td>\n",
       "    </tr>\n",
       "    <tr>\n",
       "      <th>2017-01-01 02:00:00+00:00</th>\n",
       "      <td>0.0</td>\n",
       "    </tr>\n",
       "    <tr>\n",
       "      <th>2017-01-01 02:30:00+00:00</th>\n",
       "      <td>0.0</td>\n",
       "    </tr>\n",
       "    <tr>\n",
       "      <th>...</th>\n",
       "      <td>...</td>\n",
       "    </tr>\n",
       "    <tr>\n",
       "      <th>2017-12-31 22:00:00+00:00</th>\n",
       "      <td>0.0</td>\n",
       "    </tr>\n",
       "    <tr>\n",
       "      <th>2017-12-31 22:30:00+00:00</th>\n",
       "      <td>0.0</td>\n",
       "    </tr>\n",
       "    <tr>\n",
       "      <th>2017-12-31 23:00:00+00:00</th>\n",
       "      <td>0.0</td>\n",
       "    </tr>\n",
       "    <tr>\n",
       "      <th>2017-12-31 23:30:00+00:00</th>\n",
       "      <td>0.0</td>\n",
       "    </tr>\n",
       "    <tr>\n",
       "      <th>2018-01-01 00:00:00+00:00</th>\n",
       "      <td>0.0</td>\n",
       "    </tr>\n",
       "  </tbody>\n",
       "</table>\n",
       "<p>17520 rows × 1 columns</p>\n",
       "</div>"
      ],
      "text/plain": [
       "                           value\n",
       "2017-01-01 00:30:00+00:00    0.0\n",
       "2017-01-01 01:00:00+00:00    0.0\n",
       "2017-01-01 01:30:00+00:00    0.0\n",
       "2017-01-01 02:00:00+00:00    0.0\n",
       "2017-01-01 02:30:00+00:00    0.0\n",
       "...                          ...\n",
       "2017-12-31 22:00:00+00:00    0.0\n",
       "2017-12-31 22:30:00+00:00    0.0\n",
       "2017-12-31 23:00:00+00:00    0.0\n",
       "2017-12-31 23:30:00+00:00    0.0\n",
       "2018-01-01 00:00:00+00:00    0.0\n",
       "\n",
       "[17520 rows x 1 columns]"
      ]
     },
     "execution_count": 5,
     "metadata": {},
     "output_type": "execute_result"
    }
   ],
   "source": [
    "DCooling_query['DistrictCooling']['value'] = DCooling_query['DistrictCooling']['value']/(3.6 * 10**6)\n",
    "DCooling_df = DCooling_query['DistrictCooling']\n",
    "DCooling_df"
   ]
  },
  {
   "cell_type": "code",
   "execution_count": 6,
   "metadata": {},
   "outputs": [
    {
     "data": {
      "text/html": [
       "<div>\n",
       "<style scoped>\n",
       "    .dataframe tbody tr th:only-of-type {\n",
       "        vertical-align: middle;\n",
       "    }\n",
       "\n",
       "    .dataframe tbody tr th {\n",
       "        vertical-align: top;\n",
       "    }\n",
       "\n",
       "    .dataframe thead th {\n",
       "        text-align: right;\n",
       "    }\n",
       "</style>\n",
       "<table border=\"1\" class=\"dataframe\">\n",
       "  <thead>\n",
       "    <tr style=\"text-align: right;\">\n",
       "      <th></th>\n",
       "      <th>value</th>\n",
       "    </tr>\n",
       "  </thead>\n",
       "  <tbody>\n",
       "    <tr>\n",
       "      <th>0</th>\n",
       "      <td>0.0</td>\n",
       "    </tr>\n",
       "    <tr>\n",
       "      <th>1</th>\n",
       "      <td>0.0</td>\n",
       "    </tr>\n",
       "    <tr>\n",
       "      <th>2</th>\n",
       "      <td>0.0</td>\n",
       "    </tr>\n",
       "    <tr>\n",
       "      <th>3</th>\n",
       "      <td>0.0</td>\n",
       "    </tr>\n",
       "    <tr>\n",
       "      <th>4</th>\n",
       "      <td>0.0</td>\n",
       "    </tr>\n",
       "    <tr>\n",
       "      <th>...</th>\n",
       "      <td>...</td>\n",
       "    </tr>\n",
       "    <tr>\n",
       "      <th>17515</th>\n",
       "      <td>0.0</td>\n",
       "    </tr>\n",
       "    <tr>\n",
       "      <th>17516</th>\n",
       "      <td>0.0</td>\n",
       "    </tr>\n",
       "    <tr>\n",
       "      <th>17517</th>\n",
       "      <td>0.0</td>\n",
       "    </tr>\n",
       "    <tr>\n",
       "      <th>17518</th>\n",
       "      <td>0.0</td>\n",
       "    </tr>\n",
       "    <tr>\n",
       "      <th>17519</th>\n",
       "      <td>0.0</td>\n",
       "    </tr>\n",
       "  </tbody>\n",
       "</table>\n",
       "<p>17520 rows × 1 columns</p>\n",
       "</div>"
      ],
      "text/plain": [
       "       value\n",
       "0        0.0\n",
       "1        0.0\n",
       "2        0.0\n",
       "3        0.0\n",
       "4        0.0\n",
       "...      ...\n",
       "17515    0.0\n",
       "17516    0.0\n",
       "17517    0.0\n",
       "17518    0.0\n",
       "17519    0.0\n",
       "\n",
       "[17520 rows x 1 columns]"
      ]
     },
     "execution_count": 6,
     "metadata": {},
     "output_type": "execute_result"
    }
   ],
   "source": [
    "cos_teta_df = cos_teta_query['cos_teta']\n",
    "#colonne = {'value':np.random.rand(17520)}\n",
    "#cos_teta_df = pd.DataFrame(colonne)\n",
    "#cos_teta_df = cos_teta_df.rename(columns={'0': 'value'})\n",
    "cos_teta_df = cos_teta_df.reset_index(drop=True)\n",
    "cos_teta_df"
   ]
  },
  {
   "cell_type": "code",
   "execution_count": 7,
   "metadata": {
    "scrolled": false
   },
   "outputs": [
    {
     "data": {
      "text/html": [
       "<div>\n",
       "<style scoped>\n",
       "    .dataframe tbody tr th:only-of-type {\n",
       "        vertical-align: middle;\n",
       "    }\n",
       "\n",
       "    .dataframe tbody tr th {\n",
       "        vertical-align: top;\n",
       "    }\n",
       "\n",
       "    .dataframe thead th {\n",
       "        text-align: right;\n",
       "    }\n",
       "</style>\n",
       "<table border=\"1\" class=\"dataframe\">\n",
       "  <thead>\n",
       "    <tr style=\"text-align: right;\">\n",
       "      <th></th>\n",
       "      <th>value</th>\n",
       "    </tr>\n",
       "  </thead>\n",
       "  <tbody>\n",
       "    <tr>\n",
       "      <th>0</th>\n",
       "      <td>0.0</td>\n",
       "    </tr>\n",
       "    <tr>\n",
       "      <th>1</th>\n",
       "      <td>0.0</td>\n",
       "    </tr>\n",
       "    <tr>\n",
       "      <th>2</th>\n",
       "      <td>0.0</td>\n",
       "    </tr>\n",
       "    <tr>\n",
       "      <th>3</th>\n",
       "      <td>0.0</td>\n",
       "    </tr>\n",
       "    <tr>\n",
       "      <th>4</th>\n",
       "      <td>0.0</td>\n",
       "    </tr>\n",
       "    <tr>\n",
       "      <th>...</th>\n",
       "      <td>...</td>\n",
       "    </tr>\n",
       "    <tr>\n",
       "      <th>17515</th>\n",
       "      <td>0.0</td>\n",
       "    </tr>\n",
       "    <tr>\n",
       "      <th>17516</th>\n",
       "      <td>0.0</td>\n",
       "    </tr>\n",
       "    <tr>\n",
       "      <th>17517</th>\n",
       "      <td>0.0</td>\n",
       "    </tr>\n",
       "    <tr>\n",
       "      <th>17518</th>\n",
       "      <td>0.0</td>\n",
       "    </tr>\n",
       "    <tr>\n",
       "      <th>17519</th>\n",
       "      <td>0.0</td>\n",
       "    </tr>\n",
       "  </tbody>\n",
       "</table>\n",
       "<p>17520 rows × 1 columns</p>\n",
       "</div>"
      ],
      "text/plain": [
       "       value\n",
       "0        0.0\n",
       "1        0.0\n",
       "2        0.0\n",
       "3        0.0\n",
       "4        0.0\n",
       "...      ...\n",
       "17515    0.0\n",
       "17516    0.0\n",
       "17517    0.0\n",
       "17518    0.0\n",
       "17519    0.0\n",
       "\n",
       "[17520 rows x 1 columns]"
      ]
     },
     "execution_count": 7,
     "metadata": {},
     "output_type": "execute_result"
    }
   ],
   "source": [
    "DHI_df = DHI_query['DHI']\n",
    "DNI_df = DNI_query['DNI']\n",
    "DHI_df = DHI_df.reset_index(drop=True)\n",
    "DNI_df = DNI_df.reset_index(drop=True)\n",
    "DNI_df"
   ]
  },
  {
   "cell_type": "code",
   "execution_count": 8,
   "metadata": {},
   "outputs": [
    {
     "data": {
      "text/html": [
       "<div>\n",
       "<style scoped>\n",
       "    .dataframe tbody tr th:only-of-type {\n",
       "        vertical-align: middle;\n",
       "    }\n",
       "\n",
       "    .dataframe tbody tr th {\n",
       "        vertical-align: top;\n",
       "    }\n",
       "\n",
       "    .dataframe thead th {\n",
       "        text-align: right;\n",
       "    }\n",
       "</style>\n",
       "<table border=\"1\" class=\"dataframe\">\n",
       "  <thead>\n",
       "    <tr style=\"text-align: right;\">\n",
       "      <th></th>\n",
       "      <th>DHI</th>\n",
       "      <th>DNI</th>\n",
       "      <th>cos_teta</th>\n",
       "    </tr>\n",
       "  </thead>\n",
       "  <tbody>\n",
       "    <tr>\n",
       "      <th>0</th>\n",
       "      <td>0.0</td>\n",
       "      <td>0.0</td>\n",
       "      <td>0.0</td>\n",
       "    </tr>\n",
       "    <tr>\n",
       "      <th>1</th>\n",
       "      <td>0.0</td>\n",
       "      <td>0.0</td>\n",
       "      <td>0.0</td>\n",
       "    </tr>\n",
       "    <tr>\n",
       "      <th>2</th>\n",
       "      <td>0.0</td>\n",
       "      <td>0.0</td>\n",
       "      <td>0.0</td>\n",
       "    </tr>\n",
       "    <tr>\n",
       "      <th>3</th>\n",
       "      <td>0.0</td>\n",
       "      <td>0.0</td>\n",
       "      <td>0.0</td>\n",
       "    </tr>\n",
       "    <tr>\n",
       "      <th>4</th>\n",
       "      <td>0.0</td>\n",
       "      <td>0.0</td>\n",
       "      <td>0.0</td>\n",
       "    </tr>\n",
       "    <tr>\n",
       "      <th>...</th>\n",
       "      <td>...</td>\n",
       "      <td>...</td>\n",
       "      <td>...</td>\n",
       "    </tr>\n",
       "    <tr>\n",
       "      <th>17515</th>\n",
       "      <td>0.0</td>\n",
       "      <td>0.0</td>\n",
       "      <td>0.0</td>\n",
       "    </tr>\n",
       "    <tr>\n",
       "      <th>17516</th>\n",
       "      <td>0.0</td>\n",
       "      <td>0.0</td>\n",
       "      <td>0.0</td>\n",
       "    </tr>\n",
       "    <tr>\n",
       "      <th>17517</th>\n",
       "      <td>0.0</td>\n",
       "      <td>0.0</td>\n",
       "      <td>0.0</td>\n",
       "    </tr>\n",
       "    <tr>\n",
       "      <th>17518</th>\n",
       "      <td>0.0</td>\n",
       "      <td>0.0</td>\n",
       "      <td>0.0</td>\n",
       "    </tr>\n",
       "    <tr>\n",
       "      <th>17519</th>\n",
       "      <td>0.0</td>\n",
       "      <td>0.0</td>\n",
       "      <td>0.0</td>\n",
       "    </tr>\n",
       "  </tbody>\n",
       "</table>\n",
       "<p>17520 rows × 3 columns</p>\n",
       "</div>"
      ],
      "text/plain": [
       "       DHI  DNI  cos_teta\n",
       "0      0.0  0.0       0.0\n",
       "1      0.0  0.0       0.0\n",
       "2      0.0  0.0       0.0\n",
       "3      0.0  0.0       0.0\n",
       "4      0.0  0.0       0.0\n",
       "...    ...  ...       ...\n",
       "17515  0.0  0.0       0.0\n",
       "17516  0.0  0.0       0.0\n",
       "17517  0.0  0.0       0.0\n",
       "17518  0.0  0.0       0.0\n",
       "17519  0.0  0.0       0.0\n",
       "\n",
       "[17520 rows x 3 columns]"
      ]
     },
     "execution_count": 8,
     "metadata": {},
     "output_type": "execute_result"
    }
   ],
   "source": [
    "tmp_df = DHI_df\n",
    "tmp_df['DNI'] = DNI_df['value']\n",
    "tmp_df['cos_teta'] = cos_teta_df['value']\n",
    "tmp_df = tmp_df.rename(columns={'value':'DHI'})\n",
    "tmp_df"
   ]
  },
  {
   "cell_type": "code",
   "execution_count": 9,
   "metadata": {},
   "outputs": [],
   "source": [
    "GHI = tmp_df['DNI'] * tmp_df['cos_teta'] + tmp_df['DHI']"
   ]
  },
  {
   "cell_type": "code",
   "execution_count": 10,
   "metadata": {},
   "outputs": [
    {
     "data": {
      "text/html": [
       "<div>\n",
       "<style scoped>\n",
       "    .dataframe tbody tr th:only-of-type {\n",
       "        vertical-align: middle;\n",
       "    }\n",
       "\n",
       "    .dataframe tbody tr th {\n",
       "        vertical-align: top;\n",
       "    }\n",
       "\n",
       "    .dataframe thead th {\n",
       "        text-align: right;\n",
       "    }\n",
       "</style>\n",
       "<table border=\"1\" class=\"dataframe\">\n",
       "  <thead>\n",
       "    <tr style=\"text-align: right;\">\n",
       "      <th></th>\n",
       "      <th>value</th>\n",
       "    </tr>\n",
       "  </thead>\n",
       "  <tbody>\n",
       "    <tr>\n",
       "      <th>0</th>\n",
       "      <td>0.0</td>\n",
       "    </tr>\n",
       "    <tr>\n",
       "      <th>1</th>\n",
       "      <td>0.0</td>\n",
       "    </tr>\n",
       "    <tr>\n",
       "      <th>2</th>\n",
       "      <td>0.0</td>\n",
       "    </tr>\n",
       "    <tr>\n",
       "      <th>3</th>\n",
       "      <td>0.0</td>\n",
       "    </tr>\n",
       "    <tr>\n",
       "      <th>4</th>\n",
       "      <td>0.0</td>\n",
       "    </tr>\n",
       "    <tr>\n",
       "      <th>...</th>\n",
       "      <td>...</td>\n",
       "    </tr>\n",
       "    <tr>\n",
       "      <th>17515</th>\n",
       "      <td>0.0</td>\n",
       "    </tr>\n",
       "    <tr>\n",
       "      <th>17516</th>\n",
       "      <td>0.0</td>\n",
       "    </tr>\n",
       "    <tr>\n",
       "      <th>17517</th>\n",
       "      <td>0.0</td>\n",
       "    </tr>\n",
       "    <tr>\n",
       "      <th>17518</th>\n",
       "      <td>0.0</td>\n",
       "    </tr>\n",
       "    <tr>\n",
       "      <th>17519</th>\n",
       "      <td>0.0</td>\n",
       "    </tr>\n",
       "  </tbody>\n",
       "</table>\n",
       "<p>17520 rows × 1 columns</p>\n",
       "</div>"
      ],
      "text/plain": [
       "       value\n",
       "0        0.0\n",
       "1        0.0\n",
       "2        0.0\n",
       "3        0.0\n",
       "4        0.0\n",
       "...      ...\n",
       "17515    0.0\n",
       "17516    0.0\n",
       "17517    0.0\n",
       "17518    0.0\n",
       "17519    0.0\n",
       "\n",
       "[17520 rows x 1 columns]"
      ]
     },
     "execution_count": 10,
     "metadata": {},
     "output_type": "execute_result"
    }
   ],
   "source": [
    "colonne = {'value':GHI}\n",
    "GHI_df = pd.DataFrame(colonne)\n",
    "GHI_df = GHI_df.reset_index(drop=True)\n",
    "GHI_df"
   ]
  },
  {
   "cell_type": "code",
   "execution_count": 11,
   "metadata": {},
   "outputs": [],
   "source": [
    "import pandas as pd\n",
    "from matplotlib import pyplot as plt\n",
    "import statsmodels.api as sm"
   ]
  },
  {
   "cell_type": "code",
   "execution_count": 12,
   "metadata": {},
   "outputs": [],
   "source": [
    "%matplotlib inline"
   ]
  },
  {
   "cell_type": "code",
   "execution_count": 13,
   "metadata": {},
   "outputs": [],
   "source": [
    "#df = pd.DataFrame()"
   ]
  },
  {
   "cell_type": "code",
   "execution_count": 14,
   "metadata": {},
   "outputs": [
    {
     "data": {
      "text/html": [
       "<div>\n",
       "<style scoped>\n",
       "    .dataframe tbody tr th:only-of-type {\n",
       "        vertical-align: middle;\n",
       "    }\n",
       "\n",
       "    .dataframe tbody tr th {\n",
       "        vertical-align: top;\n",
       "    }\n",
       "\n",
       "    .dataframe thead th {\n",
       "        text-align: right;\n",
       "    }\n",
       "</style>\n",
       "<table border=\"1\" class=\"dataframe\">\n",
       "  <thead>\n",
       "    <tr style=\"text-align: right;\">\n",
       "      <th></th>\n",
       "      <th>mean_house</th>\n",
       "    </tr>\n",
       "  </thead>\n",
       "  <tbody>\n",
       "    <tr>\n",
       "      <th>2017-01-01 00:30:00+00:00</th>\n",
       "      <td>17.041515</td>\n",
       "    </tr>\n",
       "    <tr>\n",
       "      <th>2017-01-01 01:00:00+00:00</th>\n",
       "      <td>17.195037</td>\n",
       "    </tr>\n",
       "    <tr>\n",
       "      <th>2017-01-01 01:30:00+00:00</th>\n",
       "      <td>17.156567</td>\n",
       "    </tr>\n",
       "    <tr>\n",
       "      <th>2017-01-01 02:00:00+00:00</th>\n",
       "      <td>17.062049</td>\n",
       "    </tr>\n",
       "    <tr>\n",
       "      <th>2017-01-01 02:30:00+00:00</th>\n",
       "      <td>17.016318</td>\n",
       "    </tr>\n",
       "    <tr>\n",
       "      <th>...</th>\n",
       "      <td>...</td>\n",
       "    </tr>\n",
       "    <tr>\n",
       "      <th>2017-12-31 22:00:00+00:00</th>\n",
       "      <td>18.351141</td>\n",
       "    </tr>\n",
       "    <tr>\n",
       "      <th>2017-12-31 22:30:00+00:00</th>\n",
       "      <td>18.125649</td>\n",
       "    </tr>\n",
       "    <tr>\n",
       "      <th>2017-12-31 23:00:00+00:00</th>\n",
       "      <td>18.079232</td>\n",
       "    </tr>\n",
       "    <tr>\n",
       "      <th>2017-12-31 23:30:00+00:00</th>\n",
       "      <td>17.786140</td>\n",
       "    </tr>\n",
       "    <tr>\n",
       "      <th>2018-01-01 00:00:00+00:00</th>\n",
       "      <td>17.695580</td>\n",
       "    </tr>\n",
       "  </tbody>\n",
       "</table>\n",
       "<p>17520 rows × 1 columns</p>\n",
       "</div>"
      ],
      "text/plain": [
       "                           mean_house\n",
       "2017-01-01 00:30:00+00:00   17.041515\n",
       "2017-01-01 01:00:00+00:00   17.195037\n",
       "2017-01-01 01:30:00+00:00   17.156567\n",
       "2017-01-01 02:00:00+00:00   17.062049\n",
       "2017-01-01 02:30:00+00:00   17.016318\n",
       "...                               ...\n",
       "2017-12-31 22:00:00+00:00   18.351141\n",
       "2017-12-31 22:30:00+00:00   18.125649\n",
       "2017-12-31 23:00:00+00:00   18.079232\n",
       "2017-12-31 23:30:00+00:00   17.786140\n",
       "2018-01-01 00:00:00+00:00   17.695580\n",
       "\n",
       "[17520 rows x 1 columns]"
      ]
     },
     "execution_count": 14,
     "metadata": {},
     "output_type": "execute_result"
    }
   ],
   "source": [
    "df = pd.DataFrame(T_in_df['mean_house'])\n",
    "df"
   ]
  },
  {
   "cell_type": "code",
   "execution_count": 15,
   "metadata": {
    "scrolled": false
   },
   "outputs": [
    {
     "data": {
      "text/html": [
       "<div>\n",
       "<style scoped>\n",
       "    .dataframe tbody tr th:only-of-type {\n",
       "        vertical-align: middle;\n",
       "    }\n",
       "\n",
       "    .dataframe tbody tr th {\n",
       "        vertical-align: top;\n",
       "    }\n",
       "\n",
       "    .dataframe thead th {\n",
       "        text-align: right;\n",
       "    }\n",
       "</style>\n",
       "<table border=\"1\" class=\"dataframe\">\n",
       "  <thead>\n",
       "    <tr style=\"text-align: right;\">\n",
       "      <th></th>\n",
       "      <th>T_in</th>\n",
       "      <th>T_ext</th>\n",
       "      <th>District_Heating [kW]</th>\n",
       "      <th>District_Cooling [kW]</th>\n",
       "      <th>GHI</th>\n",
       "    </tr>\n",
       "  </thead>\n",
       "  <tbody>\n",
       "    <tr>\n",
       "      <th>2017-01-01 00:30:00+00:00</th>\n",
       "      <td>17.041515</td>\n",
       "      <td>2.90</td>\n",
       "      <td>0.000000</td>\n",
       "      <td>0.0</td>\n",
       "      <td>NaN</td>\n",
       "    </tr>\n",
       "    <tr>\n",
       "      <th>2017-01-01 01:00:00+00:00</th>\n",
       "      <td>17.195037</td>\n",
       "      <td>3.50</td>\n",
       "      <td>0.000000</td>\n",
       "      <td>0.0</td>\n",
       "      <td>NaN</td>\n",
       "    </tr>\n",
       "    <tr>\n",
       "      <th>2017-01-01 01:30:00+00:00</th>\n",
       "      <td>17.156567</td>\n",
       "      <td>3.45</td>\n",
       "      <td>0.000000</td>\n",
       "      <td>0.0</td>\n",
       "      <td>NaN</td>\n",
       "    </tr>\n",
       "    <tr>\n",
       "      <th>2017-01-01 02:00:00+00:00</th>\n",
       "      <td>17.062049</td>\n",
       "      <td>3.40</td>\n",
       "      <td>0.000000</td>\n",
       "      <td>0.0</td>\n",
       "      <td>NaN</td>\n",
       "    </tr>\n",
       "    <tr>\n",
       "      <th>2017-01-01 02:30:00+00:00</th>\n",
       "      <td>17.016318</td>\n",
       "      <td>3.25</td>\n",
       "      <td>0.000000</td>\n",
       "      <td>0.0</td>\n",
       "      <td>NaN</td>\n",
       "    </tr>\n",
       "    <tr>\n",
       "      <th>2017-01-01 03:00:00+00:00</th>\n",
       "      <td>16.980657</td>\n",
       "      <td>3.10</td>\n",
       "      <td>0.000000</td>\n",
       "      <td>0.0</td>\n",
       "      <td>NaN</td>\n",
       "    </tr>\n",
       "    <tr>\n",
       "      <th>2017-01-01 03:30:00+00:00</th>\n",
       "      <td>16.942906</td>\n",
       "      <td>3.05</td>\n",
       "      <td>0.000000</td>\n",
       "      <td>0.0</td>\n",
       "      <td>NaN</td>\n",
       "    </tr>\n",
       "    <tr>\n",
       "      <th>2017-01-01 04:00:00+00:00</th>\n",
       "      <td>16.906252</td>\n",
       "      <td>3.00</td>\n",
       "      <td>0.000000</td>\n",
       "      <td>0.0</td>\n",
       "      <td>NaN</td>\n",
       "    </tr>\n",
       "    <tr>\n",
       "      <th>2017-01-01 04:30:00+00:00</th>\n",
       "      <td>17.235706</td>\n",
       "      <td>2.95</td>\n",
       "      <td>0.000000</td>\n",
       "      <td>0.0</td>\n",
       "      <td>NaN</td>\n",
       "    </tr>\n",
       "    <tr>\n",
       "      <th>2017-01-01 05:00:00+00:00</th>\n",
       "      <td>17.265994</td>\n",
       "      <td>2.90</td>\n",
       "      <td>0.531466</td>\n",
       "      <td>0.0</td>\n",
       "      <td>NaN</td>\n",
       "    </tr>\n",
       "  </tbody>\n",
       "</table>\n",
       "</div>"
      ],
      "text/plain": [
       "                                T_in  T_ext  District_Heating [kW]  \\\n",
       "2017-01-01 00:30:00+00:00  17.041515   2.90               0.000000   \n",
       "2017-01-01 01:00:00+00:00  17.195037   3.50               0.000000   \n",
       "2017-01-01 01:30:00+00:00  17.156567   3.45               0.000000   \n",
       "2017-01-01 02:00:00+00:00  17.062049   3.40               0.000000   \n",
       "2017-01-01 02:30:00+00:00  17.016318   3.25               0.000000   \n",
       "2017-01-01 03:00:00+00:00  16.980657   3.10               0.000000   \n",
       "2017-01-01 03:30:00+00:00  16.942906   3.05               0.000000   \n",
       "2017-01-01 04:00:00+00:00  16.906252   3.00               0.000000   \n",
       "2017-01-01 04:30:00+00:00  17.235706   2.95               0.000000   \n",
       "2017-01-01 05:00:00+00:00  17.265994   2.90               0.531466   \n",
       "\n",
       "                           District_Cooling [kW]  GHI  \n",
       "2017-01-01 00:30:00+00:00                    0.0  NaN  \n",
       "2017-01-01 01:00:00+00:00                    0.0  NaN  \n",
       "2017-01-01 01:30:00+00:00                    0.0  NaN  \n",
       "2017-01-01 02:00:00+00:00                    0.0  NaN  \n",
       "2017-01-01 02:30:00+00:00                    0.0  NaN  \n",
       "2017-01-01 03:00:00+00:00                    0.0  NaN  \n",
       "2017-01-01 03:30:00+00:00                    0.0  NaN  \n",
       "2017-01-01 04:00:00+00:00                    0.0  NaN  \n",
       "2017-01-01 04:30:00+00:00                    0.0  NaN  \n",
       "2017-01-01 05:00:00+00:00                    0.0  NaN  "
      ]
     },
     "execution_count": 15,
     "metadata": {},
     "output_type": "execute_result"
    }
   ],
   "source": [
    "df['T_ext'] = T_ext_df['value']\n",
    "df = df.rename(columns={'mean_house':'T_in'})\n",
    "df['District_Heating [kW]'] = DHeating_df['value']\n",
    "df['District_Cooling [kW]'] = DCooling_df['value']\n",
    "df['GHI'] = GHI_df['value']\n",
    "df.head(n=10)"
   ]
  },
  {
   "cell_type": "code",
   "execution_count": 16,
   "metadata": {},
   "outputs": [
    {
     "data": {
      "text/html": [
       "<div>\n",
       "<style scoped>\n",
       "    .dataframe tbody tr th:only-of-type {\n",
       "        vertical-align: middle;\n",
       "    }\n",
       "\n",
       "    .dataframe tbody tr th {\n",
       "        vertical-align: top;\n",
       "    }\n",
       "\n",
       "    .dataframe thead th {\n",
       "        text-align: right;\n",
       "    }\n",
       "</style>\n",
       "<table border=\"1\" class=\"dataframe\">\n",
       "  <thead>\n",
       "    <tr style=\"text-align: right;\">\n",
       "      <th></th>\n",
       "      <th>T_in</th>\n",
       "      <th>T_ext</th>\n",
       "      <th>District_Heating [kW]</th>\n",
       "      <th>District_Cooling [kW]</th>\n",
       "      <th>GHI</th>\n",
       "    </tr>\n",
       "  </thead>\n",
       "  <tbody>\n",
       "    <tr>\n",
       "      <th>2017-01-01 00:30:00+00:00</th>\n",
       "      <td>17.041515</td>\n",
       "      <td>2.90</td>\n",
       "      <td>0.000000</td>\n",
       "      <td>0.0</td>\n",
       "      <td>0.0</td>\n",
       "    </tr>\n",
       "    <tr>\n",
       "      <th>2017-01-01 01:00:00+00:00</th>\n",
       "      <td>17.195037</td>\n",
       "      <td>3.50</td>\n",
       "      <td>0.000000</td>\n",
       "      <td>0.0</td>\n",
       "      <td>0.0</td>\n",
       "    </tr>\n",
       "    <tr>\n",
       "      <th>2017-01-01 01:30:00+00:00</th>\n",
       "      <td>17.156567</td>\n",
       "      <td>3.45</td>\n",
       "      <td>0.000000</td>\n",
       "      <td>0.0</td>\n",
       "      <td>0.0</td>\n",
       "    </tr>\n",
       "    <tr>\n",
       "      <th>2017-01-01 02:00:00+00:00</th>\n",
       "      <td>17.062049</td>\n",
       "      <td>3.40</td>\n",
       "      <td>0.000000</td>\n",
       "      <td>0.0</td>\n",
       "      <td>0.0</td>\n",
       "    </tr>\n",
       "    <tr>\n",
       "      <th>2017-01-01 02:30:00+00:00</th>\n",
       "      <td>17.016318</td>\n",
       "      <td>3.25</td>\n",
       "      <td>0.000000</td>\n",
       "      <td>0.0</td>\n",
       "      <td>0.0</td>\n",
       "    </tr>\n",
       "    <tr>\n",
       "      <th>...</th>\n",
       "      <td>...</td>\n",
       "      <td>...</td>\n",
       "      <td>...</td>\n",
       "      <td>...</td>\n",
       "      <td>...</td>\n",
       "    </tr>\n",
       "    <tr>\n",
       "      <th>2017-12-31 22:00:00+00:00</th>\n",
       "      <td>18.351141</td>\n",
       "      <td>5.00</td>\n",
       "      <td>0.324376</td>\n",
       "      <td>0.0</td>\n",
       "      <td>0.0</td>\n",
       "    </tr>\n",
       "    <tr>\n",
       "      <th>2017-12-31 22:30:00+00:00</th>\n",
       "      <td>18.125649</td>\n",
       "      <td>4.80</td>\n",
       "      <td>1.604563</td>\n",
       "      <td>0.0</td>\n",
       "      <td>0.0</td>\n",
       "    </tr>\n",
       "    <tr>\n",
       "      <th>2017-12-31 23:00:00+00:00</th>\n",
       "      <td>18.079232</td>\n",
       "      <td>4.60</td>\n",
       "      <td>0.218720</td>\n",
       "      <td>0.0</td>\n",
       "      <td>0.0</td>\n",
       "    </tr>\n",
       "    <tr>\n",
       "      <th>2017-12-31 23:30:00+00:00</th>\n",
       "      <td>17.786140</td>\n",
       "      <td>4.45</td>\n",
       "      <td>0.442508</td>\n",
       "      <td>0.0</td>\n",
       "      <td>0.0</td>\n",
       "    </tr>\n",
       "    <tr>\n",
       "      <th>2018-01-01 00:00:00+00:00</th>\n",
       "      <td>17.695580</td>\n",
       "      <td>4.30</td>\n",
       "      <td>0.057151</td>\n",
       "      <td>0.0</td>\n",
       "      <td>0.0</td>\n",
       "    </tr>\n",
       "  </tbody>\n",
       "</table>\n",
       "<p>17520 rows × 5 columns</p>\n",
       "</div>"
      ],
      "text/plain": [
       "                                T_in  T_ext  District_Heating [kW]  \\\n",
       "2017-01-01 00:30:00+00:00  17.041515   2.90               0.000000   \n",
       "2017-01-01 01:00:00+00:00  17.195037   3.50               0.000000   \n",
       "2017-01-01 01:30:00+00:00  17.156567   3.45               0.000000   \n",
       "2017-01-01 02:00:00+00:00  17.062049   3.40               0.000000   \n",
       "2017-01-01 02:30:00+00:00  17.016318   3.25               0.000000   \n",
       "...                              ...    ...                    ...   \n",
       "2017-12-31 22:00:00+00:00  18.351141   5.00               0.324376   \n",
       "2017-12-31 22:30:00+00:00  18.125649   4.80               1.604563   \n",
       "2017-12-31 23:00:00+00:00  18.079232   4.60               0.218720   \n",
       "2017-12-31 23:30:00+00:00  17.786140   4.45               0.442508   \n",
       "2018-01-01 00:00:00+00:00  17.695580   4.30               0.057151   \n",
       "\n",
       "                           District_Cooling [kW]  GHI  \n",
       "2017-01-01 00:30:00+00:00                    0.0  0.0  \n",
       "2017-01-01 01:00:00+00:00                    0.0  0.0  \n",
       "2017-01-01 01:30:00+00:00                    0.0  0.0  \n",
       "2017-01-01 02:00:00+00:00                    0.0  0.0  \n",
       "2017-01-01 02:30:00+00:00                    0.0  0.0  \n",
       "...                                          ...  ...  \n",
       "2017-12-31 22:00:00+00:00                    0.0  0.0  \n",
       "2017-12-31 22:30:00+00:00                    0.0  0.0  \n",
       "2017-12-31 23:00:00+00:00                    0.0  0.0  \n",
       "2017-12-31 23:30:00+00:00                    0.0  0.0  \n",
       "2018-01-01 00:00:00+00:00                    0.0  0.0  \n",
       "\n",
       "[17520 rows x 5 columns]"
      ]
     },
     "execution_count": 16,
     "metadata": {},
     "output_type": "execute_result"
    }
   ],
   "source": [
    "for i in range(df.shape[0]):\n",
    "    valore = GHI_df.iloc[i,0]\n",
    "    df['GHI'][i] = valore\n",
    "\n",
    "df"
   ]
  },
  {
   "cell_type": "code",
   "execution_count": 17,
   "metadata": {},
   "outputs": [],
   "source": [
    "df.to_csv('energy_signature_data.csv')"
   ]
  },
  {
   "cell_type": "markdown",
   "metadata": {},
   "source": [
    "## Start here"
   ]
  },
  {
   "cell_type": "code",
   "execution_count": 18,
   "metadata": {},
   "outputs": [],
   "source": [
    "#df = pd.read_csv('energy_signature_data.csv')"
   ]
  },
  {
   "cell_type": "code",
   "execution_count": 19,
   "metadata": {},
   "outputs": [],
   "source": [
    "df.index=pd.to_datetime(df.index,unit='s')"
   ]
  },
  {
   "cell_type": "code",
   "execution_count": 20,
   "metadata": {},
   "outputs": [
    {
     "data": {
      "text/html": [
       "<div>\n",
       "<style scoped>\n",
       "    .dataframe tbody tr th:only-of-type {\n",
       "        vertical-align: middle;\n",
       "    }\n",
       "\n",
       "    .dataframe tbody tr th {\n",
       "        vertical-align: top;\n",
       "    }\n",
       "\n",
       "    .dataframe thead th {\n",
       "        text-align: right;\n",
       "    }\n",
       "</style>\n",
       "<table border=\"1\" class=\"dataframe\">\n",
       "  <thead>\n",
       "    <tr style=\"text-align: right;\">\n",
       "      <th></th>\n",
       "      <th>T_in</th>\n",
       "      <th>T_ext</th>\n",
       "      <th>District_Heating [kW]</th>\n",
       "      <th>District_Cooling [kW]</th>\n",
       "      <th>GHI</th>\n",
       "    </tr>\n",
       "  </thead>\n",
       "  <tbody>\n",
       "    <tr>\n",
       "      <th>2017-01-01 00:30:00+00:00</th>\n",
       "      <td>17.041515</td>\n",
       "      <td>2.90</td>\n",
       "      <td>0.000000</td>\n",
       "      <td>0.0</td>\n",
       "      <td>0.0</td>\n",
       "    </tr>\n",
       "    <tr>\n",
       "      <th>2017-01-01 01:00:00+00:00</th>\n",
       "      <td>17.195037</td>\n",
       "      <td>3.50</td>\n",
       "      <td>0.000000</td>\n",
       "      <td>0.0</td>\n",
       "      <td>0.0</td>\n",
       "    </tr>\n",
       "    <tr>\n",
       "      <th>2017-01-01 01:30:00+00:00</th>\n",
       "      <td>17.156567</td>\n",
       "      <td>3.45</td>\n",
       "      <td>0.000000</td>\n",
       "      <td>0.0</td>\n",
       "      <td>0.0</td>\n",
       "    </tr>\n",
       "    <tr>\n",
       "      <th>2017-01-01 02:00:00+00:00</th>\n",
       "      <td>17.062049</td>\n",
       "      <td>3.40</td>\n",
       "      <td>0.000000</td>\n",
       "      <td>0.0</td>\n",
       "      <td>0.0</td>\n",
       "    </tr>\n",
       "    <tr>\n",
       "      <th>2017-01-01 02:30:00+00:00</th>\n",
       "      <td>17.016318</td>\n",
       "      <td>3.25</td>\n",
       "      <td>0.000000</td>\n",
       "      <td>0.0</td>\n",
       "      <td>0.0</td>\n",
       "    </tr>\n",
       "    <tr>\n",
       "      <th>...</th>\n",
       "      <td>...</td>\n",
       "      <td>...</td>\n",
       "      <td>...</td>\n",
       "      <td>...</td>\n",
       "      <td>...</td>\n",
       "    </tr>\n",
       "    <tr>\n",
       "      <th>2017-12-31 22:00:00+00:00</th>\n",
       "      <td>18.351141</td>\n",
       "      <td>5.00</td>\n",
       "      <td>0.324376</td>\n",
       "      <td>0.0</td>\n",
       "      <td>0.0</td>\n",
       "    </tr>\n",
       "    <tr>\n",
       "      <th>2017-12-31 22:30:00+00:00</th>\n",
       "      <td>18.125649</td>\n",
       "      <td>4.80</td>\n",
       "      <td>1.604563</td>\n",
       "      <td>0.0</td>\n",
       "      <td>0.0</td>\n",
       "    </tr>\n",
       "    <tr>\n",
       "      <th>2017-12-31 23:00:00+00:00</th>\n",
       "      <td>18.079232</td>\n",
       "      <td>4.60</td>\n",
       "      <td>0.218720</td>\n",
       "      <td>0.0</td>\n",
       "      <td>0.0</td>\n",
       "    </tr>\n",
       "    <tr>\n",
       "      <th>2017-12-31 23:30:00+00:00</th>\n",
       "      <td>17.786140</td>\n",
       "      <td>4.45</td>\n",
       "      <td>0.442508</td>\n",
       "      <td>0.0</td>\n",
       "      <td>0.0</td>\n",
       "    </tr>\n",
       "    <tr>\n",
       "      <th>2018-01-01 00:00:00+00:00</th>\n",
       "      <td>17.695580</td>\n",
       "      <td>4.30</td>\n",
       "      <td>0.057151</td>\n",
       "      <td>0.0</td>\n",
       "      <td>0.0</td>\n",
       "    </tr>\n",
       "  </tbody>\n",
       "</table>\n",
       "<p>17520 rows × 5 columns</p>\n",
       "</div>"
      ],
      "text/plain": [
       "                                T_in  T_ext  District_Heating [kW]  \\\n",
       "2017-01-01 00:30:00+00:00  17.041515   2.90               0.000000   \n",
       "2017-01-01 01:00:00+00:00  17.195037   3.50               0.000000   \n",
       "2017-01-01 01:30:00+00:00  17.156567   3.45               0.000000   \n",
       "2017-01-01 02:00:00+00:00  17.062049   3.40               0.000000   \n",
       "2017-01-01 02:30:00+00:00  17.016318   3.25               0.000000   \n",
       "...                              ...    ...                    ...   \n",
       "2017-12-31 22:00:00+00:00  18.351141   5.00               0.324376   \n",
       "2017-12-31 22:30:00+00:00  18.125649   4.80               1.604563   \n",
       "2017-12-31 23:00:00+00:00  18.079232   4.60               0.218720   \n",
       "2017-12-31 23:30:00+00:00  17.786140   4.45               0.442508   \n",
       "2018-01-01 00:00:00+00:00  17.695580   4.30               0.057151   \n",
       "\n",
       "                           District_Cooling [kW]  GHI  \n",
       "2017-01-01 00:30:00+00:00                    0.0  0.0  \n",
       "2017-01-01 01:00:00+00:00                    0.0  0.0  \n",
       "2017-01-01 01:30:00+00:00                    0.0  0.0  \n",
       "2017-01-01 02:00:00+00:00                    0.0  0.0  \n",
       "2017-01-01 02:30:00+00:00                    0.0  0.0  \n",
       "...                                          ...  ...  \n",
       "2017-12-31 22:00:00+00:00                    0.0  0.0  \n",
       "2017-12-31 22:30:00+00:00                    0.0  0.0  \n",
       "2017-12-31 23:00:00+00:00                    0.0  0.0  \n",
       "2017-12-31 23:30:00+00:00                    0.0  0.0  \n",
       "2018-01-01 00:00:00+00:00                    0.0  0.0  \n",
       "\n",
       "[17520 rows x 5 columns]"
      ]
     },
     "execution_count": 20,
     "metadata": {},
     "output_type": "execute_result"
    }
   ],
   "source": [
    "df.columns\n",
    "df"
   ]
  },
  {
   "cell_type": "code",
   "execution_count": 21,
   "metadata": {},
   "outputs": [
    {
     "data": {
      "text/plain": [
       "Text(0, 0.5, 'W')"
      ]
     },
     "execution_count": 21,
     "metadata": {},
     "output_type": "execute_result"
    },
    {
     "data": {
      "image/png": "[encoded data removed]",
      "text/plain": [
       "<Figure size 432x288 with 1 Axes>"
      ]
     },
     "metadata": {
      "needs_background": "light"
     },
     "output_type": "display_data"
    }
   ],
   "source": [
    "plt.plot(df['District_Heating [kW]'])\n",
    "plt.ylabel(\"W\")"
   ]
  },
  {
   "cell_type": "code",
   "execution_count": 22,
   "metadata": {},
   "outputs": [
    {
     "data": {
      "text/plain": [
       "Text(0, 0.5, 'W')"
      ]
     },
     "execution_count": 22,
     "metadata": {},
     "output_type": "execute_result"
    },
    {
     "data": {
      "image/png": "[encoded data removed]",
      "text/plain": [
       "<Figure size 432x288 with 1 Axes>"
      ]
     },
     "metadata": {
      "needs_background": "light"
     },
     "output_type": "display_data"
    }
   ],
   "source": [
    "plt.plot(df['District_Cooling [kW]'])\n",
    "plt.ylabel(\"W\")"
   ]
  },
  {
   "cell_type": "code",
   "execution_count": 23,
   "metadata": {
    "scrolled": true
   },
   "outputs": [],
   "source": [
    "df['deltaT']=df.T_in-df.T_ext\n",
    "df_cool = df[df['District_Cooling [kW]'] > 0.12]\n",
    "df_heat = df[df['District_Heating [kW]'] > 0.12]"
   ]
  },
  {
   "cell_type": "code",
   "execution_count": 24,
   "metadata": {},
   "outputs": [
    {
     "data": {
      "text/plain": [
       "'\\nfig, axs = plt.subplots(1,2, constrained_layout=True)\\nfig.suptitle(\"Energy signature\", fontweight=\"bold\")\\naxs[0].scatter(df.deltaT,df[\\'District_Heating [W]\\'])\\naxs[0].set_title(\"District Heating\")\\naxs[0].set_xlabel(\"ΔT [°C]\")\\naxs[0].set_ylabel(\"Power [W]\")\\naxs[1].scatter(df_cool.deltaT,df_cool[\\'District_Cooling [W]\\'])\\naxs[1].set_title(\"District Cooling\")\\naxs[1].set_xlabel(\"ΔT [°C]\")\\naxs[1].set_ylabel(\"Power [W]\")\\n'"
      ]
     },
     "execution_count": 24,
     "metadata": {},
     "output_type": "execute_result"
    }
   ],
   "source": [
    "'''\n",
    "fig, axs = plt.subplots(1,2, constrained_layout=True)\n",
    "fig.suptitle(\"Energy signature\", fontweight=\"bold\")\n",
    "axs[0].scatter(df.deltaT,df['District_Heating [W]'])\n",
    "axs[0].set_title(\"District Heating\")\n",
    "axs[0].set_xlabel(\"\\u0394T [°C]\")\n",
    "axs[0].set_ylabel(\"Power [W]\")\n",
    "axs[1].scatter(df_cool.deltaT,df_cool['District_Cooling [W]'])\n",
    "axs[1].set_title(\"District Cooling\")\n",
    "axs[1].set_xlabel(\"\\u0394T [°C]\")\n",
    "axs[1].set_ylabel(\"Power [W]\")\n",
    "'''"
   ]
  },
  {
   "cell_type": "code",
   "execution_count": 25,
   "metadata": {
    "scrolled": true
   },
   "outputs": [
    {
     "data": {
      "text/plain": [
       "Text(0, 0.5, 'Power [kW]')"
      ]
     },
     "execution_count": 25,
     "metadata": {},
     "output_type": "execute_result"
    },
    {
     "data": {
      "image/png": "[encoded data removed]",
      "text/plain": [
       "<Figure size 432x288 with 2 Axes>"
      ]
     },
     "metadata": {
      "needs_background": "light"
     },
     "output_type": "display_data"
    }
   ],
   "source": [
    "fig, axs = plt.subplots(1,2, constrained_layout=True)\n",
    "fig.suptitle(\"Energy signature\", fontweight=\"bold\")\n",
    "axs[0].scatter(df_heat.deltaT,df_heat['District_Heating [kW]'], color='#e97451')\n",
    "axs[0].set_title(\"District Heating\")\n",
    "axs[0].set_xlabel(\"\\u0394T [°C]\")\n",
    "axs[0].set_ylabel(\"Power [kW]\")\n",
    "axs[1].scatter(df_cool.deltaT,df_cool['District_Cooling [kW]'])\n",
    "axs[1].set_title(\"District Cooling\")\n",
    "axs[1].set_xlabel(\"\\u0394T [°C]\")\n",
    "axs[1].set_ylabel(\"Power [kW]\")"
   ]
  },
  {
   "cell_type": "code",
   "execution_count": 26,
   "metadata": {},
   "outputs": [
    {
     "data": {
      "text/plain": [
       "[<matplotlib.lines.Line2D at 0x7f39d25197c0>]"
      ]
     },
     "execution_count": 26,
     "metadata": {},
     "output_type": "execute_result"
    },
    {
     "data": {
      "image/png": "[encoded data removed]",
      "text/plain": [
       "<Figure size 432x288 with 2 Axes>"
      ]
     },
     "metadata": {
      "needs_background": "light"
     },
     "output_type": "display_data"
    }
   ],
   "source": [
    "fig, axs = plt.subplots(1,2)\n",
    "#plt.scatter(df.deltaT,df['District_Heating [W]'])\n",
    "axs[0].plot(df_heat['District_Heating [kW]'])\n",
    "axs[1].plot(df_cool['District_Cooling [kW]'])"
   ]
  },
  {
   "cell_type": "code",
   "execution_count": 27,
   "metadata": {},
   "outputs": [],
   "source": [
    "df=df.resample('H').mean()\n",
    "df_cool = df[df['District_Cooling [kW]'] > 0.12]\n",
    "df_heat = df[df['District_Heating [kW]'] > 0.12]"
   ]
  },
  {
   "cell_type": "code",
   "execution_count": 28,
   "metadata": {},
   "outputs": [
    {
     "data": {
      "text/plain": [
       "Text(0, 0.5, 'Power [kW]')"
      ]
     },
     "execution_count": 28,
     "metadata": {},
     "output_type": "execute_result"
    },
    {
     "data": {
      "image/png": "[encoded data removed]",
      "text/plain": [
       "<Figure size 432x288 with 2 Axes>"
      ]
     },
     "metadata": {
      "needs_background": "light"
     },
     "output_type": "display_data"
    }
   ],
   "source": [
    "fig, axs = plt.subplots(1,2, constrained_layout=True)\n",
    "fig.suptitle(\"Energy signature\", fontweight=\"bold\")\n",
    "axs[0].scatter(df_heat.deltaT,df_heat['District_Heating [kW]'], color='#e97451')\n",
    "axs[0].set_title(\"District Heating\")\n",
    "axs[0].set_xlabel(\"\\u0394T [°C]\")\n",
    "axs[0].set_ylabel(\"Power [kW]\")\n",
    "axs[1].scatter(df_cool.deltaT,df_cool['District_Cooling [kW]'])\n",
    "axs[1].set_title(\"District Cooling\")\n",
    "axs[1].set_xlabel(\"\\u0394T [°C]\")\n",
    "axs[1].set_ylabel(\"Power [kW]\")"
   ]
  },
  {
   "cell_type": "code",
   "execution_count": 29,
   "metadata": {},
   "outputs": [],
   "source": [
    "df=df.resample('D').mean()\n",
    "df_cool = df[df['District_Cooling [kW]'] > 0.12]\n",
    "df_heat = df[df['District_Heating [kW]'] > 0.12]\n"
   ]
  },
  {
   "cell_type": "code",
   "execution_count": 30,
   "metadata": {},
   "outputs": [
    {
     "data": {
      "text/plain": [
       "Text(0, 0.5, 'Power [kW]')"
      ]
     },
     "execution_count": 30,
     "metadata": {},
     "output_type": "execute_result"
    },
    {
     "data": {
      "image/png": "[encoded data removed]",
      "text/plain": [
       "<Figure size 432x288 with 2 Axes>"
      ]
     },
     "metadata": {
      "needs_background": "light"
     },
     "output_type": "display_data"
    }
   ],
   "source": [
    "fig, axs = plt.subplots(1,2, constrained_layout=True)\n",
    "fig.suptitle(\"Energy signature\", fontweight=\"bold\")\n",
    "#plt.scatter(df.deltaT,df['District_Heating [W]'])\n",
    "axs[0].scatter(df_heat.deltaT,df_heat['District_Heating [kW]'], color='#e97451')\n",
    "axs[0].set_title(\"District Heating\")\n",
    "axs[0].set_xlabel(\"\\u0394T [°C]\")\n",
    "axs[0].set_ylabel(\"Power [kW]\")\n",
    "axs[1].scatter(df_cool.deltaT,df_cool['District_Cooling [kW]'])\n",
    "axs[1].set_title(\"District Cooling\")\n",
    "axs[1].set_xlabel(\"\\u0394T [°C]\")\n",
    "axs[1].set_ylabel(\"Power [kW]\")"
   ]
  },
  {
   "cell_type": "code",
   "execution_count": 31,
   "metadata": {
    "scrolled": true
   },
   "outputs": [],
   "source": [
    "df=df.resample('W').mean()\n",
    "df_cool = df[df['District_Cooling [kW]'] > 0.12]\n",
    "df_heat = df[df['District_Heating [kW]'] > 0.12]\n",
    "#df_cool = df_cool.resample('W').mean()\n",
    "#df_heat = df_heat.resample('W').mean()"
   ]
  },
  {
   "cell_type": "code",
   "execution_count": 32,
   "metadata": {},
   "outputs": [
    {
     "data": {
      "text/plain": [
       "Text(0, 0.5, 'Power [kW]')"
      ]
     },
     "execution_count": 32,
     "metadata": {},
     "output_type": "execute_result"
    },
    {
     "data": {
      "image/png": "[encoded data removed]",
      "text/plain": [
       "<Figure size 432x288 with 2 Axes>"
      ]
     },
     "metadata": {
      "needs_background": "light"
     },
     "output_type": "display_data"
    }
   ],
   "source": [
    "fig, axs = plt.subplots(1,2, constrained_layout=True)\n",
    "fig.suptitle(\"Energy signature\", fontweight=\"bold\")\n",
    "axs[0].scatter(df_heat.deltaT,df_heat['District_Heating [kW]'], color='#e97451')\n",
    "axs[0].set_title(\"District Heating\")\n",
    "axs[0].set_xlabel(\"\\u0394T [°C]\")\n",
    "axs[0].set_ylabel(\"Power [kW]\")\n",
    "axs[1].scatter(df_cool.deltaT,df_cool['District_Cooling [kW]'])\n",
    "axs[1].set_title(\"District Cooling\")\n",
    "axs[1].set_xlabel(\"\\u0394T [°C]\")\n",
    "axs[1].set_ylabel(\"Power [kW]\")"
   ]
  },
  {
   "cell_type": "code",
   "execution_count": 33,
   "metadata": {
    "scrolled": true
   },
   "outputs": [],
   "source": [
    "df=df.dropna()"
   ]
  },
  {
   "cell_type": "code",
   "execution_count": 34,
   "metadata": {},
   "outputs": [],
   "source": [
    "model_heating = sm.OLS(df_heat['District_Heating [kW]'],sm.add_constant(df_heat.deltaT))\n",
    "model_cooling = sm.OLS(df_cool['District_Cooling [kW]'],sm.add_constant(df_cool.deltaT))"
   ]
  },
  {
   "cell_type": "code",
   "execution_count": 35,
   "metadata": {},
   "outputs": [],
   "source": [
    "results_heating=model_heating.fit()\n",
    "results_cooling=model_cooling.fit()"
   ]
  },
  {
   "cell_type": "code",
   "execution_count": 36,
   "metadata": {},
   "outputs": [
    {
     "data": {
      "text/plain": [
       "Text(0, 0.5, 'Power [kW]')"
      ]
     },
     "execution_count": 36,
     "metadata": {},
     "output_type": "execute_result"
    },
    {
     "data": {
      "image/png": "[encoded data removed]",
      "text/plain": [
       "<Figure size 432x288 with 2 Axes>"
      ]
     },
     "metadata": {
      "needs_background": "light"
     },
     "output_type": "display_data"
    }
   ],
   "source": [
    "fig, axs = plt.subplots(1,2, constrained_layout=True)\n",
    "fig.suptitle(\"Energy signature - Regression Line\", fontweight=\"bold\")\n",
    "axs[0].plot(df_heat.deltaT,results_heating.predict(),'r')\n",
    "axs[0].scatter(df_heat.deltaT,df_heat['District_Heating [kW]'], color='#e97451')\n",
    "axs[0].set_title(\"District Heating\")\n",
    "axs[0].set_xlabel(\"\\u0394T [°C]\")\n",
    "axs[0].set_ylabel(\"Power [kW]\")\n",
    "axs[1].plot(df_cool.deltaT,results_cooling.predict(),'r')\n",
    "axs[1].scatter(df_cool.deltaT,df_cool['District_Cooling [kW]'])\n",
    "axs[1].set_title(\"District Cooling\")\n",
    "axs[1].set_xlabel(\"\\u0394T [°C]\")\n",
    "axs[1].set_ylabel(\"Power [kW]\")"
   ]
  },
  {
   "cell_type": "code",
   "execution_count": 37,
   "metadata": {
    "scrolled": false
   },
   "outputs": [
    {
     "data": {
      "text/html": [
       "<table class=\"simpletable\">\n",
       "<caption>OLS Regression Results</caption>\n",
       "<tr>\n",
       "  <th>Dep. Variable:</th>    <td>District_Heating [kW]</td> <th>  R-squared:         </th> <td>   0.548</td>\n",
       "</tr>\n",
       "<tr>\n",
       "  <th>Model:</th>                     <td>OLS</td>          <th>  Adj. R-squared:    </th> <td>   0.540</td>\n",
       "</tr>\n",
       "<tr>\n",
       "  <th>Method:</th>               <td>Least Squares</td>     <th>  F-statistic:       </th> <td>   63.09</td>\n",
       "</tr>\n",
       "<tr>\n",
       "  <th>Date:</th>               <td>Sat, 22 Apr 2023</td>    <th>  Prob (F-statistic):</th> <td>1.57e-10</td>\n",
       "</tr>\n",
       "<tr>\n",
       "  <th>Time:</th>                   <td>10:48:12</td>        <th>  Log-Likelihood:    </th> <td> -8.8856</td>\n",
       "</tr>\n",
       "<tr>\n",
       "  <th>No. Observations:</th>        <td>    54</td>         <th>  AIC:               </th> <td>   21.77</td>\n",
       "</tr>\n",
       "<tr>\n",
       "  <th>Df Residuals:</th>            <td>    52</td>         <th>  BIC:               </th> <td>   25.75</td>\n",
       "</tr>\n",
       "<tr>\n",
       "  <th>Df Model:</th>                <td>     1</td>         <th>                     </th>     <td> </td>   \n",
       "</tr>\n",
       "<tr>\n",
       "  <th>Covariance Type:</th>        <td>nonrobust</td>       <th>                     </th>     <td> </td>   \n",
       "</tr>\n",
       "</table>\n",
       "<table class=\"simpletable\">\n",
       "<tr>\n",
       "     <td></td>       <th>coef</th>     <th>std err</th>      <th>t</th>      <th>P>|t|</th>  <th>[0.025</th>    <th>0.975]</th>  \n",
       "</tr>\n",
       "<tr>\n",
       "  <th>const</th>  <td>   -0.0789</td> <td>    0.107</td> <td>   -0.735</td> <td> 0.466</td> <td>   -0.294</td> <td>    0.136</td>\n",
       "</tr>\n",
       "<tr>\n",
       "  <th>deltaT</th> <td>    0.0688</td> <td>    0.009</td> <td>    7.943</td> <td> 0.000</td> <td>    0.051</td> <td>    0.086</td>\n",
       "</tr>\n",
       "</table>\n",
       "<table class=\"simpletable\">\n",
       "<tr>\n",
       "  <th>Omnibus:</th>       <td> 2.521</td> <th>  Durbin-Watson:     </th> <td>   1.045</td>\n",
       "</tr>\n",
       "<tr>\n",
       "  <th>Prob(Omnibus):</th> <td> 0.284</td> <th>  Jarque-Bera (JB):  </th> <td>   1.837</td>\n",
       "</tr>\n",
       "<tr>\n",
       "  <th>Skew:</th>          <td> 0.098</td> <th>  Prob(JB):          </th> <td>   0.399</td>\n",
       "</tr>\n",
       "<tr>\n",
       "  <th>Kurtosis:</th>      <td> 3.882</td> <th>  Cond. No.          </th> <td>    33.8</td>\n",
       "</tr>\n",
       "</table><br/><br/>Notes:<br/>[1] Standard Errors assume that the covariance matrix of the errors is correctly specified."
      ],
      "text/plain": [
       "<class 'statsmodels.iolib.summary.Summary'>\n",
       "\"\"\"\n",
       "                              OLS Regression Results                             \n",
       "=================================================================================\n",
       "Dep. Variable:     District_Heating [kW]   R-squared:                       0.548\n",
       "Model:                               OLS   Adj. R-squared:                  0.540\n",
       "Method:                    Least Squares   F-statistic:                     63.09\n",
       "Date:                   Sat, 22 Apr 2023   Prob (F-statistic):           1.57e-10\n",
       "Time:                           10:48:12   Log-Likelihood:                -8.8856\n",
       "No. Observations:                     54   AIC:                             21.77\n",
       "Df Residuals:                         52   BIC:                             25.75\n",
       "Df Model:                              1                                         \n",
       "Covariance Type:               nonrobust                                         \n",
       "==============================================================================\n",
       "                 coef    std err          t      P>|t|      [0.025      0.975]\n",
       "------------------------------------------------------------------------------\n",
       "const         -0.0789      0.107     -0.735      0.466      -0.294       0.136\n",
       "deltaT         0.0688      0.009      7.943      0.000       0.051       0.086\n",
       "==============================================================================\n",
       "Omnibus:                        2.521   Durbin-Watson:                   1.045\n",
       "Prob(Omnibus):                  0.284   Jarque-Bera (JB):                1.837\n",
       "Skew:                           0.098   Prob(JB):                        0.399\n",
       "Kurtosis:                       3.882   Cond. No.                         33.8\n",
       "==============================================================================\n",
       "\n",
       "Notes:\n",
       "[1] Standard Errors assume that the covariance matrix of the errors is correctly specified.\n",
       "\"\"\""
      ]
     },
     "execution_count": 37,
     "metadata": {},
     "output_type": "execute_result"
    }
   ],
   "source": [
    "results_heating.summary()"
   ]
  },
  {
   "cell_type": "code",
   "execution_count": 38,
   "metadata": {
    "scrolled": false
   },
   "outputs": [
    {
     "data": {
      "text/html": [
       "<table class=\"simpletable\">\n",
       "<caption>OLS Regression Results</caption>\n",
       "<tr>\n",
       "  <th>Dep. Variable:</th>    <td>District_Cooling [kW]</td> <th>  R-squared:         </th> <td>   0.831</td>\n",
       "</tr>\n",
       "<tr>\n",
       "  <th>Model:</th>                     <td>OLS</td>          <th>  Adj. R-squared:    </th> <td>   0.822</td>\n",
       "</tr>\n",
       "<tr>\n",
       "  <th>Method:</th>               <td>Least Squares</td>     <th>  F-statistic:       </th> <td>   93.23</td>\n",
       "</tr>\n",
       "<tr>\n",
       "  <th>Date:</th>               <td>Sat, 22 Apr 2023</td>    <th>  Prob (F-statistic):</th> <td>9.23e-09</td>\n",
       "</tr>\n",
       "<tr>\n",
       "  <th>Time:</th>                   <td>10:48:12</td>        <th>  Log-Likelihood:    </th> <td>  32.108</td>\n",
       "</tr>\n",
       "<tr>\n",
       "  <th>No. Observations:</th>        <td>    21</td>         <th>  AIC:               </th> <td>  -60.22</td>\n",
       "</tr>\n",
       "<tr>\n",
       "  <th>Df Residuals:</th>            <td>    19</td>         <th>  BIC:               </th> <td>  -58.13</td>\n",
       "</tr>\n",
       "<tr>\n",
       "  <th>Df Model:</th>                <td>     1</td>         <th>                     </th>     <td> </td>   \n",
       "</tr>\n",
       "<tr>\n",
       "  <th>Covariance Type:</th>        <td>nonrobust</td>       <th>                     </th>     <td> </td>   \n",
       "</tr>\n",
       "</table>\n",
       "<table class=\"simpletable\">\n",
       "<tr>\n",
       "     <td></td>       <th>coef</th>     <th>std err</th>      <th>t</th>      <th>P>|t|</th>  <th>[0.025</th>    <th>0.975]</th>  \n",
       "</tr>\n",
       "<tr>\n",
       "  <th>const</th>  <td>    0.6577</td> <td>    0.036</td> <td>   18.327</td> <td> 0.000</td> <td>    0.583</td> <td>    0.733</td>\n",
       "</tr>\n",
       "<tr>\n",
       "  <th>deltaT</th> <td>   -0.0482</td> <td>    0.005</td> <td>   -9.656</td> <td> 0.000</td> <td>   -0.059</td> <td>   -0.038</td>\n",
       "</tr>\n",
       "</table>\n",
       "<table class=\"simpletable\">\n",
       "<tr>\n",
       "  <th>Omnibus:</th>       <td> 4.938</td> <th>  Durbin-Watson:     </th> <td>   1.548</td>\n",
       "</tr>\n",
       "<tr>\n",
       "  <th>Prob(Omnibus):</th> <td> 0.085</td> <th>  Jarque-Bera (JB):  </th> <td>   2.820</td>\n",
       "</tr>\n",
       "<tr>\n",
       "  <th>Skew:</th>          <td>-0.801</td> <th>  Prob(JB):          </th> <td>   0.244</td>\n",
       "</tr>\n",
       "<tr>\n",
       "  <th>Kurtosis:</th>      <td> 3.812</td> <th>  Cond. No.          </th> <td>    21.8</td>\n",
       "</tr>\n",
       "</table><br/><br/>Notes:<br/>[1] Standard Errors assume that the covariance matrix of the errors is correctly specified."
      ],
      "text/plain": [
       "<class 'statsmodels.iolib.summary.Summary'>\n",
       "\"\"\"\n",
       "                              OLS Regression Results                             \n",
       "=================================================================================\n",
       "Dep. Variable:     District_Cooling [kW]   R-squared:                       0.831\n",
       "Model:                               OLS   Adj. R-squared:                  0.822\n",
       "Method:                    Least Squares   F-statistic:                     93.23\n",
       "Date:                   Sat, 22 Apr 2023   Prob (F-statistic):           9.23e-09\n",
       "Time:                           10:48:12   Log-Likelihood:                 32.108\n",
       "No. Observations:                     21   AIC:                            -60.22\n",
       "Df Residuals:                         19   BIC:                            -58.13\n",
       "Df Model:                              1                                         \n",
       "Covariance Type:               nonrobust                                         \n",
       "==============================================================================\n",
       "                 coef    std err          t      P>|t|      [0.025      0.975]\n",
       "------------------------------------------------------------------------------\n",
       "const          0.6577      0.036     18.327      0.000       0.583       0.733\n",
       "deltaT        -0.0482      0.005     -9.656      0.000      -0.059      -0.038\n",
       "==============================================================================\n",
       "Omnibus:                        4.938   Durbin-Watson:                   1.548\n",
       "Prob(Omnibus):                  0.085   Jarque-Bera (JB):                2.820\n",
       "Skew:                          -0.801   Prob(JB):                        0.244\n",
       "Kurtosis:                       3.812   Cond. No.                         21.8\n",
       "==============================================================================\n",
       "\n",
       "Notes:\n",
       "[1] Standard Errors assume that the covariance matrix of the errors is correctly specified.\n",
       "\"\"\""
      ]
     },
     "execution_count": 38,
     "metadata": {},
     "output_type": "execute_result"
    }
   ],
   "source": [
    "results_cooling.summary()"
   ]
  },
  {
   "cell_type": "markdown",
   "metadata": {},
   "source": [
    "## Multivariate"
   ]
  },
  {
   "cell_type": "markdown",
   "metadata": {},
   "source": [
    "##### Heating"
   ]
  },
  {
   "cell_type": "code",
   "execution_count": null,
   "metadata": {},
   "outputs": [],
   "source": []
  },
  {
   "cell_type": "code",
   "execution_count": null,
   "metadata": {},
   "outputs": [],
   "source": []
  },
  {
   "cell_type": "code",
   "execution_count": null,
   "metadata": {},
   "outputs": [],
   "source": []
  },
  {
   "cell_type": "code",
   "execution_count": 37,
   "metadata": {},
   "outputs": [],
   "source": [
    "from sklearn.linear_model import LinearRegression\n",
    "from mpl_toolkits.mplot3d import Axes3D"
   ]
  },
  {
   "cell_type": "code",
   "execution_count": 38,
   "metadata": {},
   "outputs": [],
   "source": [
    "X_heat = []\n",
    "Y_heat = []\n",
    "for i in range(df_heat.shape[0]):\n",
    "    x1 = df_heat[\"deltaT\"][i]\n",
    "    x2 = df_heat[\"GHI\"][i]\n",
    "    X_heat.append([x1, x2])\n",
    "    Y_heat.append(df_heat[\"District_Heating [kW]\"][i])\n",
    "#X_heat = df_heat[[\"deltaT\",\"GHI\"]]\n",
    "#Y_heat = df_heat[\"District_Heating [kW]\"]"
   ]
  },
  {
   "cell_type": "code",
   "execution_count": 39,
   "metadata": {},
   "outputs": [
    {
     "data": {
      "text/html": [
       "<style>#sk-container-id-1 {color: black;background-color: white;}#sk-container-id-1 pre{padding: 0;}#sk-container-id-1 div.sk-toggleable {background-color: white;}#sk-container-id-1 label.sk-toggleable__label {cursor: pointer;display: block;width: 100%;margin-bottom: 0;padding: 0.3em;box-sizing: border-box;text-align: center;}#sk-container-id-1 label.sk-toggleable__label-arrow:before {content: \"▸\";float: left;margin-right: 0.25em;color: #696969;}#sk-container-id-1 label.sk-toggleable__label-arrow:hover:before {color: black;}#sk-container-id-1 div.sk-estimator:hover label.sk-toggleable__label-arrow:before {color: black;}#sk-container-id-1 div.sk-toggleable__content {max-height: 0;max-width: 0;overflow: hidden;text-align: left;background-color: #f0f8ff;}#sk-container-id-1 div.sk-toggleable__content pre {margin: 0.2em;color: black;border-radius: 0.25em;background-color: #f0f8ff;}#sk-container-id-1 input.sk-toggleable__control:checked~div.sk-toggleable__content {max-height: 200px;max-width: 100%;overflow: auto;}#sk-container-id-1 input.sk-toggleable__control:checked~label.sk-toggleable__label-arrow:before {content: \"▾\";}#sk-container-id-1 div.sk-estimator input.sk-toggleable__control:checked~label.sk-toggleable__label {background-color: #d4ebff;}#sk-container-id-1 div.sk-label input.sk-toggleable__control:checked~label.sk-toggleable__label {background-color: #d4ebff;}#sk-container-id-1 input.sk-hidden--visually {border: 0;clip: rect(1px 1px 1px 1px);clip: rect(1px, 1px, 1px, 1px);height: 1px;margin: -1px;overflow: hidden;padding: 0;position: absolute;width: 1px;}#sk-container-id-1 div.sk-estimator {font-family: monospace;background-color: #f0f8ff;border: 1px dotted black;border-radius: 0.25em;box-sizing: border-box;margin-bottom: 0.5em;}#sk-container-id-1 div.sk-estimator:hover {background-color: #d4ebff;}#sk-container-id-1 div.sk-parallel-item::after {content: \"\";width: 100%;border-bottom: 1px solid gray;flex-grow: 1;}#sk-container-id-1 div.sk-label:hover label.sk-toggleable__label {background-color: #d4ebff;}#sk-container-id-1 div.sk-serial::before {content: \"\";position: absolute;border-left: 1px solid gray;box-sizing: border-box;top: 0;bottom: 0;left: 50%;z-index: 0;}#sk-container-id-1 div.sk-serial {display: flex;flex-direction: column;align-items: center;background-color: white;padding-right: 0.2em;padding-left: 0.2em;position: relative;}#sk-container-id-1 div.sk-item {position: relative;z-index: 1;}#sk-container-id-1 div.sk-parallel {display: flex;align-items: stretch;justify-content: center;background-color: white;position: relative;}#sk-container-id-1 div.sk-item::before, #sk-container-id-1 div.sk-parallel-item::before {content: \"\";position: absolute;border-left: 1px solid gray;box-sizing: border-box;top: 0;bottom: 0;left: 50%;z-index: -1;}#sk-container-id-1 div.sk-parallel-item {display: flex;flex-direction: column;z-index: 1;position: relative;background-color: white;}#sk-container-id-1 div.sk-parallel-item:first-child::after {align-self: flex-end;width: 50%;}#sk-container-id-1 div.sk-parallel-item:last-child::after {align-self: flex-start;width: 50%;}#sk-container-id-1 div.sk-parallel-item:only-child::after {width: 0;}#sk-container-id-1 div.sk-dashed-wrapped {border: 1px dashed gray;margin: 0 0.4em 0.5em 0.4em;box-sizing: border-box;padding-bottom: 0.4em;background-color: white;}#sk-container-id-1 div.sk-label label {font-family: monospace;font-weight: bold;display: inline-block;line-height: 1.2em;}#sk-container-id-1 div.sk-label-container {text-align: center;}#sk-container-id-1 div.sk-container {/* jupyter's `normalize.less` sets `[hidden] { display: none; }` but bootstrap.min.css set `[hidden] { display: none !important; }` so we also need the `!important` here to be able to override the default hidden behavior on the sphinx rendered scikit-learn.org. See: https://github.com/scikit-learn/scikit-learn/issues/21755 */display: inline-block !important;position: relative;}#sk-container-id-1 div.sk-text-repr-fallback {display: none;}</style><div id=\"sk-container-id-1\" class=\"sk-top-container\"><div class=\"sk-text-repr-fallback\"><pre>LinearRegression()</pre><b>In a Jupyter environment, please rerun this cell to show the HTML representation or trust the notebook. <br />On GitHub, the HTML representation is unable to render, please try loading this page with nbviewer.org.</b></div><div class=\"sk-container\" hidden><div class=\"sk-item\"><div class=\"sk-estimator sk-toggleable\"><input class=\"sk-toggleable__control sk-hidden--visually\" id=\"sk-estimator-id-1\" type=\"checkbox\" checked><label for=\"sk-estimator-id-1\" class=\"sk-toggleable__label sk-toggleable__label-arrow\">LinearRegression</label><div class=\"sk-toggleable__content\"><pre>LinearRegression()</pre></div></div></div></div></div>"
      ],
      "text/plain": [
       "LinearRegression()"
      ]
     },
     "execution_count": 39,
     "metadata": {},
     "output_type": "execute_result"
    }
   ],
   "source": [
    "Regressor_heat = LinearRegression()\n",
    "Regressor_heat.fit(X_heat, Y_heat)"
   ]
  },
  {
   "cell_type": "code",
   "execution_count": 40,
   "metadata": {},
   "outputs": [
    {
     "name": "stderr",
     "output_type": "stream",
     "text": [
      "/home/ict4bd/ict4bd/lib/python3.8/site-packages/sklearn/base.py:443: UserWarning: X has feature names, but LinearRegression was fitted without feature names\n",
      "  warnings.warn(\n"
     ]
    }
   ],
   "source": [
    "x_surf_heat, y_surf_heat = np.meshgrid(np.linspace(df_heat.deltaT.min(), df_heat.deltaT.max(), 100),np.linspace(df_heat.GHI.min(), df_heat.GHI.max(), 100))\n",
    "onlyX = pd.DataFrame({'deltaT': x_surf_heat.ravel(), 'GHI': y_surf_heat.ravel()})\n",
    "fittedY = Regressor_heat.predict(onlyX)"
   ]
  },
  {
   "cell_type": "code",
   "execution_count": 41,
   "metadata": {},
   "outputs": [
    {
     "data": {
      "text/plain": [
       "array([0.02447404, 0.03824477, 0.05201549, ..., 1.38828157, 1.4020523 ,\n",
       "       1.41582302])"
      ]
     },
     "execution_count": 41,
     "metadata": {},
     "output_type": "execute_result"
    }
   ],
   "source": [
    "fittedY=np.array(fittedY)\n",
    "fittedY"
   ]
  },
  {
   "cell_type": "code",
   "execution_count": 47,
   "metadata": {
    "scrolled": false
   },
   "outputs": [
    {
     "data": {
      "image/png": "[encoded data removed]",
      "text/plain": [
       "<Figure size 1440x720 with 1 Axes>"
      ]
     },
     "metadata": {
      "needs_background": "light"
     },
     "output_type": "display_data"
    }
   ],
   "source": [
    "fig = plt.figure(figsize=(20,10))\n",
    "ax = fig.add_subplot(111, projection='3d')\n",
    "ax.scatter(df_heat['deltaT'],df_heat['GHI'],df_heat['District_Heating [kW]'],c='red', marker='o', alpha=0.5)\n",
    "ax.plot_surface(x_surf_heat,y_surf_heat,fittedY.reshape(x_surf_heat.shape), color='b', alpha=0.3)\n",
    "ax.set_xlabel('deltaT °C', fontsize=20, fontweight='bold')\n",
    "ax.set_ylabel('GHI W/$m^2$', fontsize=20, fontweight='bold')\n",
    "ax.set_zlabel('District Heating [kW]]', fontsize=15, fontweight='bold')\n",
    "ax.view_init(elev=0, azim=0)"
   ]
  },
  {
   "cell_type": "code",
   "execution_count": 45,
   "metadata": {},
   "outputs": [
    {
     "data": {
      "image/png": "[encoded data removed]",
      "text/plain": [
       "<Figure size 1440x720 with 1 Axes>"
      ]
     },
     "metadata": {
      "needs_background": "light"
     },
     "output_type": "display_data"
    }
   ],
   "source": [
    "fig = plt.figure(figsize=(20,10))\n",
    "ax = fig.add_subplot(111, projection='3d')\n",
    "ax.scatter(df_heat['deltaT'],df_heat['GHI'],df_heat['District_Heating [kW]'],c='red', marker='o', alpha=0.5)\n",
    "ax.plot_surface(x_surf_heat,y_surf_heat,fittedY.reshape(x_surf_heat.shape), color='b', alpha=0.3)\n",
    "ax.set_xlabel('deltaT °C', fontsize=20, fontweight='bold')\n",
    "ax.set_ylabel('GHI W/$m^2$', fontsize=20, fontweight='bold')\n",
    "ax.set_zlabel('District Heating [kW]]', fontsize=15, fontweight='bold')\n",
    "ax.view_init(elev=0, azim=90)"
   ]
  },
  {
   "cell_type": "code",
   "execution_count": 48,
   "metadata": {},
   "outputs": [
    {
     "data": {
      "text/plain": [
       "\"\\ns = mlab.mesh(df_heat['deltaT'], df_heat['GHI'], df_heat['District_Heating [kW]'])\\nalpha = 30 # degrees \\nmlab.view(azimuth=0, elevation=90, roll=-90+alpha)\\nmlab.show()\\n\""
      ]
     },
     "execution_count": 48,
     "metadata": {},
     "output_type": "execute_result"
    }
   ],
   "source": [
    "'''\n",
    "s = mlab.mesh(df_heat['deltaT'], df_heat['GHI'], df_heat['District_Heating [kW]'])\n",
    "alpha = 30 # degrees \n",
    "mlab.view(azimuth=0, elevation=90, roll=-90+alpha)\n",
    "mlab.show()\n",
    "'''"
   ]
  },
  {
   "cell_type": "markdown",
   "metadata": {},
   "source": [
    "##### Cooling"
   ]
  },
  {
   "cell_type": "code",
   "execution_count": 48,
   "metadata": {},
   "outputs": [],
   "source": [
    "from sklearn.linear_model import LinearRegression\n",
    "from mpl_toolkits.mplot3d import Axes3D"
   ]
  },
  {
   "cell_type": "code",
   "execution_count": 49,
   "metadata": {},
   "outputs": [],
   "source": [
    "X_cool = []\n",
    "Y_cool = []\n",
    "for i in range(df_cool.shape[0]):\n",
    "    x1 = df_cool[\"deltaT\"][i]\n",
    "    x2 = df_cool[\"GHI\"][i]\n",
    "    X_cool.append([x1, x2])\n",
    "    Y_cool.append(df_cool[\"District_Cooling [kW]\"][i])"
   ]
  },
  {
   "cell_type": "code",
   "execution_count": 50,
   "metadata": {},
   "outputs": [
    {
     "data": {
      "text/html": [
       "<style>#sk-container-id-2 {color: black;background-color: white;}#sk-container-id-2 pre{padding: 0;}#sk-container-id-2 div.sk-toggleable {background-color: white;}#sk-container-id-2 label.sk-toggleable__label {cursor: pointer;display: block;width: 100%;margin-bottom: 0;padding: 0.3em;box-sizing: border-box;text-align: center;}#sk-container-id-2 label.sk-toggleable__label-arrow:before {content: \"▸\";float: left;margin-right: 0.25em;color: #696969;}#sk-container-id-2 label.sk-toggleable__label-arrow:hover:before {color: black;}#sk-container-id-2 div.sk-estimator:hover label.sk-toggleable__label-arrow:before {color: black;}#sk-container-id-2 div.sk-toggleable__content {max-height: 0;max-width: 0;overflow: hidden;text-align: left;background-color: #f0f8ff;}#sk-container-id-2 div.sk-toggleable__content pre {margin: 0.2em;color: black;border-radius: 0.25em;background-color: #f0f8ff;}#sk-container-id-2 input.sk-toggleable__control:checked~div.sk-toggleable__content {max-height: 200px;max-width: 100%;overflow: auto;}#sk-container-id-2 input.sk-toggleable__control:checked~label.sk-toggleable__label-arrow:before {content: \"▾\";}#sk-container-id-2 div.sk-estimator input.sk-toggleable__control:checked~label.sk-toggleable__label {background-color: #d4ebff;}#sk-container-id-2 div.sk-label input.sk-toggleable__control:checked~label.sk-toggleable__label {background-color: #d4ebff;}#sk-container-id-2 input.sk-hidden--visually {border: 0;clip: rect(1px 1px 1px 1px);clip: rect(1px, 1px, 1px, 1px);height: 1px;margin: -1px;overflow: hidden;padding: 0;position: absolute;width: 1px;}#sk-container-id-2 div.sk-estimator {font-family: monospace;background-color: #f0f8ff;border: 1px dotted black;border-radius: 0.25em;box-sizing: border-box;margin-bottom: 0.5em;}#sk-container-id-2 div.sk-estimator:hover {background-color: #d4ebff;}#sk-container-id-2 div.sk-parallel-item::after {content: \"\";width: 100%;border-bottom: 1px solid gray;flex-grow: 1;}#sk-container-id-2 div.sk-label:hover label.sk-toggleable__label {background-color: #d4ebff;}#sk-container-id-2 div.sk-serial::before {content: \"\";position: absolute;border-left: 1px solid gray;box-sizing: border-box;top: 0;bottom: 0;left: 50%;z-index: 0;}#sk-container-id-2 div.sk-serial {display: flex;flex-direction: column;align-items: center;background-color: white;padding-right: 0.2em;padding-left: 0.2em;position: relative;}#sk-container-id-2 div.sk-item {position: relative;z-index: 1;}#sk-container-id-2 div.sk-parallel {display: flex;align-items: stretch;justify-content: center;background-color: white;position: relative;}#sk-container-id-2 div.sk-item::before, #sk-container-id-2 div.sk-parallel-item::before {content: \"\";position: absolute;border-left: 1px solid gray;box-sizing: border-box;top: 0;bottom: 0;left: 50%;z-index: -1;}#sk-container-id-2 div.sk-parallel-item {display: flex;flex-direction: column;z-index: 1;position: relative;background-color: white;}#sk-container-id-2 div.sk-parallel-item:first-child::after {align-self: flex-end;width: 50%;}#sk-container-id-2 div.sk-parallel-item:last-child::after {align-self: flex-start;width: 50%;}#sk-container-id-2 div.sk-parallel-item:only-child::after {width: 0;}#sk-container-id-2 div.sk-dashed-wrapped {border: 1px dashed gray;margin: 0 0.4em 0.5em 0.4em;box-sizing: border-box;padding-bottom: 0.4em;background-color: white;}#sk-container-id-2 div.sk-label label {font-family: monospace;font-weight: bold;display: inline-block;line-height: 1.2em;}#sk-container-id-2 div.sk-label-container {text-align: center;}#sk-container-id-2 div.sk-container {/* jupyter's `normalize.less` sets `[hidden] { display: none; }` but bootstrap.min.css set `[hidden] { display: none !important; }` so we also need the `!important` here to be able to override the default hidden behavior on the sphinx rendered scikit-learn.org. See: https://github.com/scikit-learn/scikit-learn/issues/21755 */display: inline-block !important;position: relative;}#sk-container-id-2 div.sk-text-repr-fallback {display: none;}</style><div id=\"sk-container-id-2\" class=\"sk-top-container\"><div class=\"sk-text-repr-fallback\"><pre>LinearRegression()</pre><b>In a Jupyter environment, please rerun this cell to show the HTML representation or trust the notebook. <br />On GitHub, the HTML representation is unable to render, please try loading this page with nbviewer.org.</b></div><div class=\"sk-container\" hidden><div class=\"sk-item\"><div class=\"sk-estimator sk-toggleable\"><input class=\"sk-toggleable__control sk-hidden--visually\" id=\"sk-estimator-id-2\" type=\"checkbox\" checked><label for=\"sk-estimator-id-2\" class=\"sk-toggleable__label sk-toggleable__label-arrow\">LinearRegression</label><div class=\"sk-toggleable__content\"><pre>LinearRegression()</pre></div></div></div></div></div>"
      ],
      "text/plain": [
       "LinearRegression()"
      ]
     },
     "execution_count": 50,
     "metadata": {},
     "output_type": "execute_result"
    }
   ],
   "source": [
    "Regressor_cool = LinearRegression()\n",
    "Regressor_cool.fit(X_cool, Y_cool)"
   ]
  },
  {
   "cell_type": "code",
   "execution_count": 51,
   "metadata": {},
   "outputs": [
    {
     "name": "stderr",
     "output_type": "stream",
     "text": [
      "/home/ict4bd/ict4bd/lib/python3.8/site-packages/sklearn/base.py:443: UserWarning: X has feature names, but LinearRegression was fitted without feature names\n",
      "  warnings.warn(\n"
     ]
    }
   ],
   "source": [
    "x_surf_cool, y_surf_cool = np.meshgrid(np.linspace(df_cool.deltaT.min(), df_cool.deltaT.max(), 100),np.linspace(df_cool.GHI.min(), df_cool.GHI.max(), 100))\n",
    "onlyX = pd.DataFrame({'deltaT': x_surf_cool.ravel(), 'GHI': y_surf_cool.ravel()})\n",
    "fittedY = Regressor_cool.predict(onlyX)"
   ]
  },
  {
   "cell_type": "code",
   "execution_count": 52,
   "metadata": {},
   "outputs": [
    {
     "data": {
      "text/plain": [
       "array([0.5910397 , 0.58737734, 0.58371498, ..., 0.14572752, 0.14206516,\n",
       "       0.13840279])"
      ]
     },
     "execution_count": 52,
     "metadata": {},
     "output_type": "execute_result"
    }
   ],
   "source": [
    "fittedY=np.array(fittedY)\n",
    "fittedY"
   ]
  },
  {
   "cell_type": "code",
   "execution_count": 55,
   "metadata": {
    "scrolled": false
   },
   "outputs": [
    {
     "data": {
      "image/png": "[encoded data removed]",
      "text/plain": [
       "<Figure size 1440x720 with 1 Axes>"
      ]
     },
     "metadata": {
      "needs_background": "light"
     },
     "output_type": "display_data"
    }
   ],
   "source": [
    "fig = plt.figure(figsize=(20,10))\n",
    "ax = fig.add_subplot(111, projection='3d')\n",
    "ax.scatter(df_cool['deltaT'],df_cool['GHI'],df_cool['District_Cooling [kW]'],c='red', marker='o', alpha=0.5)\n",
    "ax.plot_surface(x_surf_cool,y_surf_cool,fittedY.reshape(x_surf_cool.shape), color='b', alpha=0.3)\n",
    "ax.set_xlabel('deltaT °C', fontsize=20, fontweight='bold')\n",
    "ax.set_ylabel('GHI W/$m^2$', fontsize=20, fontweight='bold')\n",
    "ax.set_zlabel('District Cooling [kW]]', fontsize=15, fontweight='bold')\n",
    "ax.view_init(elev=0, azim=270)"
   ]
  },
  {
   "cell_type": "code",
   "execution_count": 89,
   "metadata": {},
   "outputs": [],
   "source": [
    "#df.index=pd.to_datetime(df.index)"
   ]
  },
  {
   "cell_type": "code",
   "execution_count": 90,
   "metadata": {},
   "outputs": [],
   "source": [
    "#plt.plot(df.Power)"
   ]
  },
  {
   "cell_type": "code",
   "execution_count": 91,
   "metadata": {},
   "outputs": [],
   "source": [
    "#plt.plot(df.P)"
   ]
  },
  {
   "cell_type": "code",
   "execution_count": 92,
   "metadata": {},
   "outputs": [],
   "source": [
    "#plt.plot(df.P.values)"
   ]
  },
  {
   "cell_type": "code",
   "execution_count": 93,
   "metadata": {},
   "outputs": [],
   "source": [
    "#df=pd.read_csv('building_67.csv')"
   ]
  },
  {
   "cell_type": "code",
   "execution_count": 94,
   "metadata": {},
   "outputs": [],
   "source": [
    "#df=df.set_index(df.columns[0])"
   ]
  },
  {
   "cell_type": "code",
   "execution_count": 95,
   "metadata": {},
   "outputs": [],
   "source": [
    "#plt.plot(df.P)"
   ]
  },
  {
   "cell_type": "code",
   "execution_count": 56,
   "metadata": {},
   "outputs": [
    {
     "data": {
      "text/plain": [
       "2017-01-01 00:00:00+00:00     11.991756\n",
       "2017-01-08 00:00:00+00:00     30.325572\n",
       "2017-01-15 00:00:00+00:00     30.326381\n",
       "2017-01-22 00:00:00+00:00     68.738059\n",
       "2017-01-29 00:00:00+00:00     22.881965\n",
       "2017-02-05 00:00:00+00:00     51.465634\n",
       "2017-02-12 00:00:00+00:00     44.444172\n",
       "2017-02-19 00:00:00+00:00     79.938778\n",
       "2017-02-26 00:00:00+00:00     71.654185\n",
       "2017-03-05 00:00:00+00:00     95.644667\n",
       "2017-03-12 00:00:00+00:00    121.798947\n",
       "2017-03-19 00:00:00+00:00    112.131884\n",
       "2017-03-26 00:00:00+00:00    123.574789\n",
       "2017-04-02 00:00:00+00:00    128.390517\n",
       "2017-04-09 00:00:00+00:00    119.936046\n",
       "2017-04-16 00:00:00+00:00    113.203031\n",
       "2017-04-23 00:00:00+00:00    159.625309\n",
       "2017-04-30 00:00:00+00:00    155.101774\n",
       "2017-05-07 00:00:00+00:00    158.627909\n",
       "2017-05-14 00:00:00+00:00    134.147802\n",
       "2017-05-21 00:00:00+00:00    161.846782\n",
       "2017-05-28 00:00:00+00:00    142.878881\n",
       "2017-06-04 00:00:00+00:00    142.138254\n",
       "2017-06-11 00:00:00+00:00    137.010935\n",
       "2017-06-18 00:00:00+00:00    154.469908\n",
       "2017-06-25 00:00:00+00:00    139.842863\n",
       "2017-07-02 00:00:00+00:00    156.255606\n",
       "2017-07-09 00:00:00+00:00    148.860212\n",
       "2017-07-16 00:00:00+00:00    128.594697\n",
       "2017-07-23 00:00:00+00:00    136.365218\n",
       "2017-07-30 00:00:00+00:00    126.812109\n",
       "2017-08-06 00:00:00+00:00    121.412514\n",
       "2017-08-13 00:00:00+00:00    124.872784\n",
       "2017-08-20 00:00:00+00:00    131.807201\n",
       "2017-08-27 00:00:00+00:00    147.863008\n",
       "2017-09-03 00:00:00+00:00    141.033373\n",
       "2017-09-10 00:00:00+00:00    119.342132\n",
       "2017-09-17 00:00:00+00:00    137.950856\n",
       "2017-09-24 00:00:00+00:00    127.428567\n",
       "2017-10-01 00:00:00+00:00    130.831944\n",
       "2017-10-08 00:00:00+00:00    104.466953\n",
       "2017-10-15 00:00:00+00:00     58.685804\n",
       "2017-10-22 00:00:00+00:00     86.374668\n",
       "2017-10-29 00:00:00+00:00    100.009145\n",
       "2017-11-05 00:00:00+00:00     40.121346\n",
       "2017-11-12 00:00:00+00:00     37.989342\n",
       "2017-11-19 00:00:00+00:00     46.044922\n",
       "2017-11-26 00:00:00+00:00     45.890615\n",
       "2017-12-03 00:00:00+00:00     35.792081\n",
       "2017-12-10 00:00:00+00:00     25.722239\n",
       "2017-12-17 00:00:00+00:00     16.874561\n",
       "2017-12-24 00:00:00+00:00     18.060301\n",
       "2017-12-31 00:00:00+00:00     39.864514\n",
       "2018-01-07 00:00:00+00:00      0.000000\n",
       "Freq: W-SUN, Name: GHI, dtype: float64"
      ]
     },
     "execution_count": 56,
     "metadata": {},
     "output_type": "execute_result"
    }
   ],
   "source": [
    "df[\"GHI\"]"
   ]
  },
  {
   "cell_type": "code",
   "execution_count": null,
   "metadata": {},
   "outputs": [],
   "source": []
  }
 ],
 "metadata": {
  "kernelspec": {
   "display_name": "Python 3 (ipykernel)",
   "language": "python",
   "name": "python3"
  },
  "language_info": {
   "codemirror_mode": {
    "name": "ipython",
    "version": 3
   },
   "file_extension": ".py",
   "mimetype": "text/x-python",
   "name": "python",
   "nbconvert_exporter": "python",
   "pygments_lexer": "ipython3",
   "version": "3.8.10"
  }
 },
 "nbformat": 4,
 "nbformat_minor": 2
}
